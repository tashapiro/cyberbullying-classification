{
 "cells": [
  {
   "cell_type": "markdown",
   "id": "9ee62995-5277-4403-890f-5588034e7cbf",
   "metadata": {},
   "source": [
    "# Part 2: Text Preprocessing and Baseline Models"
   ]
  },
  {
   "cell_type": "markdown",
   "id": "3521de6b-3e4d-4dcf-a7a4-2c75cd1ca0da",
   "metadata": {},
   "source": [
    "## Imports"
   ]
  },
  {
   "cell_type": "code",
   "execution_count": 9,
   "id": "0d867b11-19a9-4182-b526-c1912415dbfa",
   "metadata": {},
   "outputs": [],
   "source": [
    "import pandas as pd\n",
    "import numpy as np\n",
    "import matplotlib.pyplot as plt\n",
    "import seaborn as sns \n",
    "\n",
    "from sklearn.feature_extraction.text import CountVectorizer, TfidfVectorizer\n",
    "import re \n",
    "\n",
    "# settings\n",
    "pd.options.display.max_colwidth = 500"
   ]
  },
  {
   "cell_type": "markdown",
   "id": "b88e7669-fd38-4e42-b29d-f2d916417f79",
   "metadata": {
    "tags": []
   },
   "source": [
    "## Read in data "
   ]
  },
  {
   "cell_type": "code",
   "execution_count": 43,
   "id": "858d02c5-23e6-4eda-bbd7-a61dd4399389",
   "metadata": {},
   "outputs": [],
   "source": [
    "df = pd.read_csv(\"../data/cyberbullying_tweets.csv\")"
   ]
  },
  {
   "cell_type": "code",
   "execution_count": 44,
   "id": "5f919a8c-00ac-4763-bfe2-d26b773a1edb",
   "metadata": {},
   "outputs": [
    {
     "data": {
      "text/plain": [
       "(47692, 2)"
      ]
     },
     "execution_count": 44,
     "metadata": {},
     "output_type": "execute_result"
    }
   ],
   "source": [
    "df.shape"
   ]
  },
  {
   "cell_type": "markdown",
   "id": "44f00303-6e91-4df7-b7f2-a5535992a802",
   "metadata": {},
   "source": [
    "# Text preprocessing "
   ]
  },
  {
   "cell_type": "markdown",
   "id": "8c335e40-57f9-47ad-8d1b-b24acdaf8fd9",
   "metadata": {},
   "source": [
    "Remove urls and usernames "
   ]
  },
  {
   "cell_type": "code",
   "execution_count": 45,
   "id": "177ddaaa-fbdb-4db5-a55c-1ffc605f0287",
   "metadata": {},
   "outputs": [],
   "source": [
    "#https://stackoverflow.com/questions/11331982/how-to-remove-any-url-within-a-string-in-python\n",
    "def remove_urls (vTEXT):\n",
    "    vTEXT = re.sub(r'(https|http)?:\\/\\/(\\w|\\.|\\/|\\?|\\=|\\&|\\%)*\\b', '', vTEXT, flags=re.MULTILINE)\n",
    "    return(vTEXT)"
   ]
  },
  {
   "cell_type": "code",
   "execution_count": 46,
   "id": "14c6659d-c067-438b-8009-2599bdcfb0ae",
   "metadata": {},
   "outputs": [],
   "source": [
    "#remove links \n",
    "df['no_links_text'] = [remove_urls(i) for i in df['tweet_text']]"
   ]
  },
  {
   "cell_type": "code",
   "execution_count": 47,
   "id": "493e50e7-4ace-49bf-aa15-d7fae791f75d",
   "metadata": {},
   "outputs": [
    {
     "data": {
      "text/plain": [
       "'Hello'"
      ]
     },
     "execution_count": 47,
     "metadata": {},
     "output_type": "execute_result"
    }
   ],
   "source": [
    "# code from Devin \n",
    "Tweet = \"Hello@username\"\n",
    "Tweet = re.sub('@[^\\s]+','',Tweet)\n",
    "Tweet"
   ]
  },
  {
   "cell_type": "code",
   "execution_count": 48,
   "id": "c014534f-a7e7-475b-ab82-dcbaf9da9178",
   "metadata": {},
   "outputs": [],
   "source": [
    "# remove user names and @ symbols \n",
    "df['no_links_text'] = df['no_links_text'].map(lambda x: re.sub('@[^\\s]+','',x))"
   ]
  },
  {
   "cell_type": "code",
   "execution_count": 49,
   "id": "255a92ea-68c8-4970-9393-6f2aeff02036",
   "metadata": {},
   "outputs": [],
   "source": [
    "# remove ['&amp;', '&lt;&lt;&lt;']\n",
    "df['no_links_text'] = df['no_links_text'].map(lambda x: re.sub(\"&lt;&lt;&lt;|&amp;#x200B;|&amp;\", ' ', str(x))) "
   ]
  },
  {
   "cell_type": "code",
   "execution_count": 50,
   "id": "805c01a9-3060-4f7d-b890-7e7ddfab467d",
   "metadata": {},
   "outputs": [
    {
     "data": {
      "text/html": [
       "<div>\n",
       "<style scoped>\n",
       "    .dataframe tbody tr th:only-of-type {\n",
       "        vertical-align: middle;\n",
       "    }\n",
       "\n",
       "    .dataframe tbody tr th {\n",
       "        vertical-align: top;\n",
       "    }\n",
       "\n",
       "    .dataframe thead th {\n",
       "        text-align: right;\n",
       "    }\n",
       "</style>\n",
       "<table border=\"1\" class=\"dataframe\">\n",
       "  <thead>\n",
       "    <tr style=\"text-align: right;\">\n",
       "      <th></th>\n",
       "      <th>tweet_text</th>\n",
       "      <th>cyberbullying_type</th>\n",
       "      <th>no_links_text</th>\n",
       "    </tr>\n",
       "  </thead>\n",
       "  <tbody>\n",
       "    <tr>\n",
       "      <th>47687</th>\n",
       "      <td>Black ppl aren't expected to do anything, depended on for anything. Yet free to participate, work, enjoy the freedom of humans all across this globe. If you waste your energy on the past you will be wasting it for building the future.</td>\n",
       "      <td>ethnicity</td>\n",
       "      <td>Black ppl aren't expected to do anything, depended on for anything. Yet free to participate, work, enjoy the freedom of humans all across this globe. If you waste your energy on the past you will be wasting it for building the future.</td>\n",
       "    </tr>\n",
       "    <tr>\n",
       "      <th>47688</th>\n",
       "      <td>Turner did not withhold his disappointment. Turner called the court an “abominable conclave of negro hating demons” (with one exception) who “issued another decree that colored men and women must be driven into Jim Crow cars whenever it suits the whim of any white community.”</td>\n",
       "      <td>ethnicity</td>\n",
       "      <td>Turner did not withhold his disappointment. Turner called the court an “abominable conclave of negro hating demons” (with one exception) who “issued another decree that colored men and women must be driven into Jim Crow cars whenever it suits the whim of any white community.”</td>\n",
       "    </tr>\n",
       "    <tr>\n",
       "      <th>47689</th>\n",
       "      <td>I swear to God. This dumb nigger bitch. I have got to bleach my hair reeeeeal fuckin' soon. D:&amp;lt; FUCK.</td>\n",
       "      <td>ethnicity</td>\n",
       "      <td>I swear to God. This dumb nigger bitch. I have got to bleach my hair reeeeeal fuckin' soon. D:&amp;lt; FUCK.</td>\n",
       "    </tr>\n",
       "    <tr>\n",
       "      <th>47690</th>\n",
       "      <td>Yea fuck you RT @therealexel: IF YOURE A NIGGER FUCKING UNFOLLOW ME, FUCKING DUMB NIGGERS.</td>\n",
       "      <td>ethnicity</td>\n",
       "      <td>Yea fuck you RT  IF YOURE A NIGGER FUCKING UNFOLLOW ME, FUCKING DUMB NIGGERS.</td>\n",
       "    </tr>\n",
       "    <tr>\n",
       "      <th>47691</th>\n",
       "      <td>Bro. U gotta chill RT @CHILLShrammy: Dog FUCK KP that dumb nigger bitch lmao</td>\n",
       "      <td>ethnicity</td>\n",
       "      <td>Bro. U gotta chill RT  Dog FUCK KP that dumb nigger bitch lmao</td>\n",
       "    </tr>\n",
       "  </tbody>\n",
       "</table>\n",
       "</div>"
      ],
      "text/plain": [
       "                                                                                                                                                                                                                                                                                 tweet_text  \\\n",
       "47687                                            Black ppl aren't expected to do anything, depended on for anything. Yet free to participate, work, enjoy the freedom of humans all across this globe. If you waste your energy on the past you will be wasting it for building the future.   \n",
       "47688  Turner did not withhold his disappointment. Turner called the court an “abominable conclave of negro hating demons” (with one exception) who “issued another decree that colored men and women must be driven into Jim Crow cars whenever it suits the whim of any white community.”   \n",
       "47689                                                                                                                                                                              I swear to God. This dumb nigger bitch. I have got to bleach my hair reeeeeal fuckin' soon. D:&lt; FUCK.   \n",
       "47690                                                                                                                                                                                            Yea fuck you RT @therealexel: IF YOURE A NIGGER FUCKING UNFOLLOW ME, FUCKING DUMB NIGGERS.   \n",
       "47691                                                                                                                                                                                                          Bro. U gotta chill RT @CHILLShrammy: Dog FUCK KP that dumb nigger bitch lmao   \n",
       "\n",
       "      cyberbullying_type  \\\n",
       "47687          ethnicity   \n",
       "47688          ethnicity   \n",
       "47689          ethnicity   \n",
       "47690          ethnicity   \n",
       "47691          ethnicity   \n",
       "\n",
       "                                                                                                                                                                                                                                                                              no_links_text  \n",
       "47687                                            Black ppl aren't expected to do anything, depended on for anything. Yet free to participate, work, enjoy the freedom of humans all across this globe. If you waste your energy on the past you will be wasting it for building the future.  \n",
       "47688  Turner did not withhold his disappointment. Turner called the court an “abominable conclave of negro hating demons” (with one exception) who “issued another decree that colored men and women must be driven into Jim Crow cars whenever it suits the whim of any white community.”  \n",
       "47689                                                                                                                                                                              I swear to God. This dumb nigger bitch. I have got to bleach my hair reeeeeal fuckin' soon. D:&lt; FUCK.  \n",
       "47690                                                                                                                                                                                                         Yea fuck you RT  IF YOURE A NIGGER FUCKING UNFOLLOW ME, FUCKING DUMB NIGGERS.  \n",
       "47691                                                                                                                                                                                                                        Bro. U gotta chill RT  Dog FUCK KP that dumb nigger bitch lmao  "
      ]
     },
     "execution_count": 50,
     "metadata": {},
     "output_type": "execute_result"
    }
   ],
   "source": [
    "df.tail()"
   ]
  },
  {
   "cell_type": "markdown",
   "id": "43d5db89-d6bd-4940-9be5-cebc11e6ec89",
   "metadata": {},
   "source": [
    "## Export preprocessed dataframe to csv"
   ]
  },
  {
   "cell_type": "code",
   "execution_count": 59,
   "id": "843fd691-1bd9-4dc8-9fbb-df2f4e5731a6",
   "metadata": {},
   "outputs": [],
   "source": [
    "df.to_csv('../data/cleaned_tweets.csv', index=False)"
   ]
  },
  {
   "cell_type": "markdown",
   "id": "8eec9d22-229f-41fc-af29-0edb7eb01dfd",
   "metadata": {},
   "source": [
    "## Create 10% sample dataframe for modeling "
   ]
  },
  {
   "cell_type": "code",
   "execution_count": 65,
   "id": "38092b02-4ba2-4a85-b6d0-8d26edeac7a0",
   "metadata": {},
   "outputs": [
    {
     "data": {
      "text/html": [
       "<div>\n",
       "<style scoped>\n",
       "    .dataframe tbody tr th:only-of-type {\n",
       "        vertical-align: middle;\n",
       "    }\n",
       "\n",
       "    .dataframe tbody tr th {\n",
       "        vertical-align: top;\n",
       "    }\n",
       "\n",
       "    .dataframe thead th {\n",
       "        text-align: right;\n",
       "    }\n",
       "</style>\n",
       "<table border=\"1\" class=\"dataframe\">\n",
       "  <thead>\n",
       "    <tr style=\"text-align: right;\">\n",
       "      <th></th>\n",
       "      <th>tweet_text</th>\n",
       "      <th>cyberbullying_type</th>\n",
       "      <th>no_links_text</th>\n",
       "    </tr>\n",
       "  </thead>\n",
       "  <tbody>\n",
       "    <tr>\n",
       "      <th>40362</th>\n",
       "      <td>@Goree_JuhssGuns hahaha he ain't even worth my tweets dumb fuck don't knw the diff between \"nigga\" &amp;amp; \"nigger\"</td>\n",
       "      <td>ethnicity</td>\n",
       "      <td>hahaha he ain't even worth my tweets dumb fuck don't knw the diff between \"nigga\"   \"nigger\"</td>\n",
       "    </tr>\n",
       "  </tbody>\n",
       "</table>\n",
       "</div>"
      ],
      "text/plain": [
       "                                                                                                              tweet_text  \\\n",
       "40362  @Goree_JuhssGuns hahaha he ain't even worth my tweets dumb fuck don't knw the diff between \"nigga\" &amp; \"nigger\"   \n",
       "\n",
       "      cyberbullying_type  \\\n",
       "40362          ethnicity   \n",
       "\n",
       "                                                                                       no_links_text  \n",
       "40362   hahaha he ain't even worth my tweets dumb fuck don't knw the diff between \"nigga\"   \"nigger\"  "
      ]
     },
     "execution_count": 65,
     "metadata": {},
     "output_type": "execute_result"
    }
   ],
   "source": [
    "df_sample = df.sample(4800, random_state=42)\n",
    "df_sample.head(1)"
   ]
  },
  {
   "cell_type": "code",
   "execution_count": 20,
   "id": "842c50d8-6ace-4c63-af96-39e4522d48a1",
   "metadata": {},
   "outputs": [
    {
     "data": {
      "text/html": [
       "<div>\n",
       "<style scoped>\n",
       "    .dataframe tbody tr th:only-of-type {\n",
       "        vertical-align: middle;\n",
       "    }\n",
       "\n",
       "    .dataframe tbody tr th {\n",
       "        vertical-align: top;\n",
       "    }\n",
       "\n",
       "    .dataframe thead th {\n",
       "        text-align: right;\n",
       "    }\n",
       "</style>\n",
       "<table border=\"1\" class=\"dataframe\">\n",
       "  <thead>\n",
       "    <tr style=\"text-align: right;\">\n",
       "      <th></th>\n",
       "      <th>tweet_text</th>\n",
       "      <th>cyberbullying_type</th>\n",
       "      <th>no_links_text</th>\n",
       "    </tr>\n",
       "  </thead>\n",
       "  <tbody>\n",
       "    <tr>\n",
       "      <th>28463</th>\n",
       "      <td>Yes, we get it. You're pretty. Tone down the self promo and just cook! @mykitchenrules #MKR</td>\n",
       "      <td>other_cyberbullying</td>\n",
       "      <td>Yes, we get it. You're pretty. Tone down the self promo and just cook! @mykitchenrules #MKR</td>\n",
       "    </tr>\n",
       "  </tbody>\n",
       "</table>\n",
       "</div>"
      ],
      "text/plain": [
       "                                                                                        tweet_text  \\\n",
       "28463  Yes, we get it. You're pretty. Tone down the self promo and just cook! @mykitchenrules #MKR   \n",
       "\n",
       "        cyberbullying_type  \\\n",
       "28463  other_cyberbullying   \n",
       "\n",
       "                                                                                     no_links_text  \n",
       "28463  Yes, we get it. You're pretty. Tone down the self promo and just cook! @mykitchenrules #MKR  "
      ]
     },
     "execution_count": 20,
     "metadata": {},
     "output_type": "execute_result"
    }
   ],
   "source": [
    "df_sample.tail(1)"
   ]
  },
  {
   "cell_type": "code",
   "execution_count": 58,
   "id": "f96a4778-2594-4a28-a5e4-c455cd480d20",
   "metadata": {},
   "outputs": [],
   "source": [
    "df_sample.to_csv('../data/cleaned_tweets_sample.csv', index=False)"
   ]
  },
  {
   "cell_type": "markdown",
   "id": "0edbccf2-969d-4bd5-b473-fdec005c8384",
   "metadata": {},
   "source": [
    "# Modeling"
   ]
  },
  {
   "cell_type": "markdown",
   "id": "35c873b7-a953-47ef-b574-7db156245245",
   "metadata": {},
   "source": [
    "## Classifier pipelines"
   ]
  },
  {
   "cell_type": "markdown",
   "id": "8adc558a-87c1-42f9-a2dc-5cee6f629647",
   "metadata": {},
   "source": [
    "Compare text vectorizing methods count vectorizer and term frequency inverse document frequency using logistic regression and naive bayes"
   ]
  },
  {
   "cell_type": "code",
   "execution_count": 125,
   "id": "3426a5b4-b5f7-4bef-90e1-4595f177a3ac",
   "metadata": {},
   "outputs": [],
   "source": [
    "from sklearn.pipeline import Pipeline \n",
    "from sklearn.linear_model import LogisticRegression \n",
    "from sklearn.naive_bayes import MultinomialNB\n",
    "from sklearn.model_selection import train_test_split \n",
    "\n",
    "from sklearn.metrics import plot_confusion_matrix, accuracy_score, f1_score, classification_report"
   ]
  },
  {
   "cell_type": "code",
   "execution_count": 66,
   "id": "8e9ccb14-3abf-40a0-b07a-75e2b7524686",
   "metadata": {},
   "outputs": [
    {
     "data": {
      "text/plain": [
       "(4800, 3)"
      ]
     },
     "execution_count": 66,
     "metadata": {},
     "output_type": "execute_result"
    }
   ],
   "source": [
    "df = df_sample\n",
    "df.shape"
   ]
  },
  {
   "cell_type": "markdown",
   "id": "466063d3-d3b5-4eb9-815f-b24efc5eb9b8",
   "metadata": {},
   "source": [
    "### Train test split"
   ]
  },
  {
   "cell_type": "code",
   "execution_count": 67,
   "id": "f89eb847-ac98-411f-86a6-2b5ea1475505",
   "metadata": {},
   "outputs": [],
   "source": [
    "y = df['cyberbullying_type']\n",
    "X = df['no_links_text']"
   ]
  },
  {
   "cell_type": "code",
   "execution_count": 68,
   "id": "89354060-7bd7-454d-bfdd-b122fef5b9cb",
   "metadata": {},
   "outputs": [
    {
     "data": {
      "text/plain": [
       "(4800,)"
      ]
     },
     "execution_count": 68,
     "metadata": {},
     "output_type": "execute_result"
    }
   ],
   "source": [
    "X.shape"
   ]
  },
  {
   "cell_type": "code",
   "execution_count": 69,
   "id": "9abe51f8-77f9-4589-a4c5-0f6b596ddee7",
   "metadata": {},
   "outputs": [],
   "source": [
    "X_train, X_test, y_train, y_test = train_test_split(X, y, random_state=42, stratify=y)"
   ]
  },
  {
   "cell_type": "markdown",
   "id": "71849142-0e94-4bf5-9ba1-4f323be76fb8",
   "metadata": {},
   "source": [
    "### Count vectorizer"
   ]
  },
  {
   "cell_type": "code",
   "execution_count": 82,
   "id": "80b0f797-4db4-4226-8fba-c99f3406e7c1",
   "metadata": {},
   "outputs": [
    {
     "data": {
      "text/plain": [
       "(0.9677777777777777, 0.7816666666666666)"
      ]
     },
     "execution_count": 82,
     "metadata": {},
     "output_type": "execute_result"
    }
   ],
   "source": [
    "cv_log = Pipeline([\n",
    "    ('cv', CountVectorizer(min_df=3)), \n",
    "    ('lr', LogisticRegression(multi_class='multinomial', solver='lbfgs'))\n",
    "]) \n",
    "\n",
    "cv_log.fit(X_train, y_train)\n",
    "cv_log.score(X_train, y_train), cv_log.score(X_test, y_test)"
   ]
  },
  {
   "cell_type": "code",
   "execution_count": 81,
   "id": "8b7fe9c8-05e2-46b4-a38e-4c0e99558106",
   "metadata": {},
   "outputs": [
    {
     "data": {
      "text/plain": [
       "(0.8575, 0.7333333333333333)"
      ]
     },
     "execution_count": 81,
     "metadata": {},
     "output_type": "execute_result"
    }
   ],
   "source": [
    "cv_mnb = Pipeline([\n",
    "    ('cv', CountVectorizer(min_df=3)), \n",
    "    ('mnb', MultinomialNB())\n",
    "]) \n",
    "\n",
    "cv_mnb.fit(X_train, y_train)\n",
    "cv_mnb.score(X_train, y_train), cv_mnb.score(X_test, y_test)"
   ]
  },
  {
   "cell_type": "markdown",
   "id": "033179b8-ae05-4bed-9c3a-78abfdb91d55",
   "metadata": {},
   "source": [
    "### TF-IDF "
   ]
  },
  {
   "cell_type": "code",
   "execution_count": 78,
   "id": "6f3a3210-388c-4d32-a0ae-fb2f36954c23",
   "metadata": {},
   "outputs": [
    {
     "data": {
      "text/plain": [
       "(0.9163888888888889, 0.7883333333333333)"
      ]
     },
     "execution_count": 78,
     "metadata": {},
     "output_type": "execute_result"
    }
   ],
   "source": [
    "tf_log = Pipeline([\n",
    "    ('tf', TfidfVectorizer(min_df=3)), \n",
    "    ('lr', LogisticRegression(multi_class='multinomial', solver='lbfgs'))\n",
    "])\n",
    "\n",
    "tf_log.fit(X_train, y_train)\n",
    "tf_log.score(X_train, y_train), tf_log.score(X_test, y_test)"
   ]
  },
  {
   "cell_type": "code",
   "execution_count": 80,
   "id": "ff806542-18b0-4921-8fb5-52d890cc25e6",
   "metadata": {},
   "outputs": [
    {
     "data": {
      "text/plain": [
       "(0.8563888888888889, 0.7083333333333334)"
      ]
     },
     "execution_count": 80,
     "metadata": {},
     "output_type": "execute_result"
    }
   ],
   "source": [
    "tf_mnb = Pipeline([\n",
    "    ('tf', TfidfVectorizer(min_df=3)), \n",
    "    ('mnb', MultinomialNB())\n",
    "])\n",
    "\n",
    "tf_mnb.fit(X_train, y_train)\n",
    "tf_mnb.score(X_train, y_train), tf_mnb.score(X_test, y_test)"
   ]
  },
  {
   "cell_type": "markdown",
   "id": "943a9cb0-00cb-4f4a-97e7-adb29362e84d",
   "metadata": {},
   "source": [
    "## Evaluate classifier models"
   ]
  },
  {
   "cell_type": "code",
   "execution_count": 163,
   "id": "c2bf4fae-78e2-409a-8b83-9bea8fd1c2db",
   "metadata": {},
   "outputs": [],
   "source": [
    "def classifier_metrics(pipeline_list, X_test, y_test):\n",
    "    \n",
    "    for model in pipeline_list:\n",
    "        preds = model.predict(X_test)\n",
    "        print(f'Accuracy = {round(accuracy_score(y_test, preds), 4)}')\n",
    "        fig, ax = plt.subplots(figsize=(5, 5))\n",
    "        plot_confusion_matrix(model, X_test, y_test, cmap='Blues', ax=ax, xticks_rotation=45, colorbar=False)\n",
    "        plt.title({model})\n",
    "        plt.show(); \n",
    "        # print(classification_report(y_test, preds))\n",
    "        print()\n",
    "\n",
    "    return"
   ]
  },
  {
   "cell_type": "code",
   "execution_count": 164,
   "id": "e55f3ba3-73f9-4a0e-976f-e04cb43799cc",
   "metadata": {},
   "outputs": [
    {
     "name": "stdout",
     "output_type": "stream",
     "text": [
      "Accuracy = 0.7817\n"
     ]
    },
    {
     "data": {
      "image/png": "[encoded data removed]",
      "text/plain": [
       "<Figure size 360x360 with 1 Axes>"
      ]
     },
     "metadata": {
      "needs_background": "light"
     },
     "output_type": "display_data"
    },
    {
     "name": "stdout",
     "output_type": "stream",
     "text": [
      "\n",
      "Accuracy = 0.7333\n"
     ]
    },
    {
     "data": {
      "image/png": "[encoded data removed]",
      "text/plain": [
       "<Figure size 360x360 with 1 Axes>"
      ]
     },
     "metadata": {
      "needs_background": "light"
     },
     "output_type": "display_data"
    },
    {
     "name": "stdout",
     "output_type": "stream",
     "text": [
      "\n",
      "Accuracy = 0.7883\n"
     ]
    },
    {
     "data": {
      "image/png": "[encoded data removed]",
      "text/plain": [
       "<Figure size 360x360 with 1 Axes>"
      ]
     },
     "metadata": {
      "needs_background": "light"
     },
     "output_type": "display_data"
    },
    {
     "name": "stdout",
     "output_type": "stream",
     "text": [
      "\n",
      "Accuracy = 0.7083\n"
     ]
    },
    {
     "data": {
      "image/png": "[encoded data removed]",
      "text/plain": [
       "<Figure size 360x360 with 1 Axes>"
      ]
     },
     "metadata": {
      "needs_background": "light"
     },
     "output_type": "display_data"
    },
    {
     "name": "stdout",
     "output_type": "stream",
     "text": [
      "\n"
     ]
    }
   ],
   "source": [
    "classifier_metrics([cv_log, cv_mnb, tf_log, tf_mnb], X_test, y_test)"
   ]
  },
  {
   "cell_type": "markdown",
   "id": "9badd0de-a53c-406f-9b3a-beb742c9a03d",
   "metadata": {},
   "source": [
    "## Neural net sentence transformer and cosine similarities"
   ]
  },
  {
   "cell_type": "markdown",
   "id": "a2e6540d-85b2-44f0-b3d0-0b834419cab2",
   "metadata": {},
   "source": [
    "### SBERT "
   ]
  },
  {
   "cell_type": "markdown",
   "id": "a27a7a80-68a2-4a84-a569-12080b39a068",
   "metadata": {},
   "source": [
    "Install: pip install -U sentence-transformers\n",
    "\n",
    "Citation  Sentence-BERT: Sentence Embeddings using Siamese BERT-Networks (2019)"
   ]
  },
  {
   "cell_type": "markdown",
   "id": "75ea009f-5471-4f1d-be16-72c0e3b42c55",
   "metadata": {},
   "source": [
    "Transorm text with SBERT (SentenceTransformer) and compute cosine similarities for each tweet"
   ]
  },
  {
   "cell_type": "markdown",
   "id": "c45b4998-b43b-442b-8cf5-82e58cc6dd12",
   "metadata": {},
   "source": [
    "### Example from SBERT documentation"
   ]
  },
  {
   "cell_type": "code",
   "execution_count": 173,
   "id": "ce97ad65-21ab-4c7e-b79b-3cf3b58b463d",
   "metadata": {},
   "outputs": [],
   "source": [
    "# example code from https://www.sbert.net/docs/usage/semantic_textual_similarity.html \n",
    "\n",
    "from sentence_transformers import SentenceTransformer, util"
   ]
  },
  {
   "cell_type": "code",
   "execution_count": 173,
   "id": "18243f7d-3779-4214-9b7d-51a3bb596e4d",
   "metadata": {},
   "outputs": [
    {
     "data": {
      "application/vnd.jupyter.widget-view+json": {
       "model_id": "54e143c1c9e746e6abc96b63120fac82",
       "version_major": 2,
       "version_minor": 0
      },
      "text/plain": [
       "Downloading:   0%|          | 0.00/1.18k [00:00<?, ?B/s]"
      ]
     },
     "metadata": {},
     "output_type": "display_data"
    },
    {
     "data": {
      "application/vnd.jupyter.widget-view+json": {
       "model_id": "d8623e964e2c42f883ba7622a3cfe837",
       "version_major": 2,
       "version_minor": 0
      },
      "text/plain": [
       "Downloading:   0%|          | 0.00/10.2k [00:00<?, ?B/s]"
      ]
     },
     "metadata": {},
     "output_type": "display_data"
    },
    {
     "data": {
      "application/vnd.jupyter.widget-view+json": {
       "model_id": "42e73549436d46aba7c774a17918ab12",
       "version_major": 2,
       "version_minor": 0
      },
      "text/plain": [
       "Downloading:   0%|          | 0.00/612 [00:00<?, ?B/s]"
      ]
     },
     "metadata": {},
     "output_type": "display_data"
    },
    {
     "data": {
      "application/vnd.jupyter.widget-view+json": {
       "model_id": "95cf5458e6db4da590f114a695ba0a8f",
       "version_major": 2,
       "version_minor": 0
      },
      "text/plain": [
       "Downloading:   0%|          | 0.00/116 [00:00<?, ?B/s]"
      ]
     },
     "metadata": {},
     "output_type": "display_data"
    },
    {
     "data": {
      "application/vnd.jupyter.widget-view+json": {
       "model_id": "c48e9c4810554a6882503c61c7bc794e",
       "version_major": 2,
       "version_minor": 0
      },
      "text/plain": [
       "Downloading:   0%|          | 0.00/39.3k [00:00<?, ?B/s]"
      ]
     },
     "metadata": {},
     "output_type": "display_data"
    },
    {
     "data": {
      "application/vnd.jupyter.widget-view+json": {
       "model_id": "6e690e7e9f374a3f9964596bf0b17e4e",
       "version_major": 2,
       "version_minor": 0
      },
      "text/plain": [
       "Downloading:   0%|          | 0.00/349 [00:00<?, ?B/s]"
      ]
     },
     "metadata": {},
     "output_type": "display_data"
    },
    {
     "data": {
      "application/vnd.jupyter.widget-view+json": {
       "model_id": "d1595166893f48d8a99e78f61c9ed899",
       "version_major": 2,
       "version_minor": 0
      },
      "text/plain": [
       "Downloading:   0%|          | 0.00/90.9M [00:00<?, ?B/s]"
      ]
     },
     "metadata": {},
     "output_type": "display_data"
    },
    {
     "data": {
      "application/vnd.jupyter.widget-view+json": {
       "model_id": "77017f9b5ee6469fb2e0033072066abf",
       "version_major": 2,
       "version_minor": 0
      },
      "text/plain": [
       "Downloading:   0%|          | 0.00/53.0 [00:00<?, ?B/s]"
      ]
     },
     "metadata": {},
     "output_type": "display_data"
    },
    {
     "data": {
      "application/vnd.jupyter.widget-view+json": {
       "model_id": "8dcf57c72de3457db77175e8aed02e5c",
       "version_major": 2,
       "version_minor": 0
      },
      "text/plain": [
       "Downloading:   0%|          | 0.00/112 [00:00<?, ?B/s]"
      ]
     },
     "metadata": {},
     "output_type": "display_data"
    },
    {
     "data": {
      "application/vnd.jupyter.widget-view+json": {
       "model_id": "cc5d13b50a0b478896636766374290a7",
       "version_major": 2,
       "version_minor": 0
      },
      "text/plain": [
       "Downloading:   0%|          | 0.00/466k [00:00<?, ?B/s]"
      ]
     },
     "metadata": {},
     "output_type": "display_data"
    },
    {
     "data": {
      "application/vnd.jupyter.widget-view+json": {
       "model_id": "fe2294b873c5429c9f4a4ca2d8080dfb",
       "version_major": 2,
       "version_minor": 0
      },
      "text/plain": [
       "Downloading:   0%|          | 0.00/350 [00:00<?, ?B/s]"
      ]
     },
     "metadata": {},
     "output_type": "display_data"
    },
    {
     "data": {
      "application/vnd.jupyter.widget-view+json": {
       "model_id": "e98290c27e814916a9751ec6c6577412",
       "version_major": 2,
       "version_minor": 0
      },
      "text/plain": [
       "Downloading:   0%|          | 0.00/13.2k [00:00<?, ?B/s]"
      ]
     },
     "metadata": {},
     "output_type": "display_data"
    },
    {
     "data": {
      "application/vnd.jupyter.widget-view+json": {
       "model_id": "d71916beeb7c4c6a934b9153b7fd2863",
       "version_major": 2,
       "version_minor": 0
      },
      "text/plain": [
       "Downloading:   0%|          | 0.00/232k [00:00<?, ?B/s]"
      ]
     },
     "metadata": {},
     "output_type": "display_data"
    },
    {
     "data": {
      "application/vnd.jupyter.widget-view+json": {
       "model_id": "d424f799d8b941c3923f19e807a7abbd",
       "version_major": 2,
       "version_minor": 0
      },
      "text/plain": [
       "Downloading:   0%|          | 0.00/190 [00:00<?, ?B/s]"
      ]
     },
     "metadata": {},
     "output_type": "display_data"
    },
    {
     "name": "stdout",
     "output_type": "stream",
     "text": [
      "The cat sits outside \t\t The dog plays in the garden \t\t Score: 0.2838\n",
      "A man is playing guitar \t\t A woman watches TV \t\t Score: -0.0327\n",
      "The new movie is awesome \t\t The new movie is so great \t\t Score: 0.8939\n"
     ]
    }
   ],
   "source": [
    "model = SentenceTransformer('all-MiniLM-L6-v2')\n",
    "\n",
    "# Two lists of sentences\n",
    "sentences1 = ['The cat sits outside',\n",
    "             'A man is playing guitar',\n",
    "             'The new movie is awesome']\n",
    "\n",
    "sentences2 = ['The dog plays in the garden',\n",
    "              'A woman watches TV',\n",
    "              'The new movie is so great']\n",
    "\n",
    "#Compute embedding for both lists\n",
    "embeddings1 = model.encode(sentences1, convert_to_tensor=True)\n",
    "embeddings2 = model.encode(sentences2, convert_to_tensor=True)\n",
    "\n",
    "#Compute cosine-similarits\n",
    "cosine_scores = util.cos_sim(embeddings1, embeddings2)\n",
    "\n",
    "#Output the pairs with their score\n",
    "for i in range(len(sentences1)):\n",
    "    print(\"{} \\t\\t {} \\t\\t Score: {:.4f}\".format(sentences1[i], sentences2[i], cosine_scores[i][i]))"
   ]
  },
  {
   "cell_type": "markdown",
   "id": "d4864c4f-5d0b-4ada-b37e-6ee0f8064de5",
   "metadata": {},
   "source": [
    "### Compare tweets labeled 'gender' with each other \n",
    "Test sbert with 4 sentences from corpus"
   ]
  },
  {
   "cell_type": "code",
   "execution_count": 207,
   "id": "a6f26f2b-4497-4e7c-8b62-2b0cda5d2cfd",
   "metadata": {},
   "outputs": [],
   "source": [
    "# lists of sentences that are similar \n",
    "sentences1 = [each for each in gender_df['no_links_text'][:2]]\n",
    "sentences2 = [each for each in gender_df['no_links_text'][3:5]]"
   ]
  },
  {
   "cell_type": "code",
   "execution_count": 208,
   "id": "899598cd-d5aa-4c83-896d-12f7e633826d",
   "metadata": {},
   "outputs": [
    {
     "data": {
      "text/plain": [
       "['RT  Sucks to have the smile wiped off your own face huh Kat? She in a glass house should not throw stones. #mkr  #mkr2015',\n",
       " \"things that AREN'T jokes - rape - sexism - racism - suicide - self harm - Mariah Carey hate - gay as an insult - mental illness\"]"
      ]
     },
     "execution_count": 208,
     "metadata": {},
     "output_type": "execute_result"
    }
   ],
   "source": [
    "sentences1"
   ]
  },
  {
   "cell_type": "code",
   "execution_count": 209,
   "id": "34d6056a-b1b5-4738-9e31-1e0e0d524796",
   "metadata": {},
   "outputs": [
    {
     "data": {
      "text/plain": [
       "['RT   that a female referee? Not sexist but...  They are only for camps right? This will not be happening in the regu…',\n",
       " 'men when they think saying any slur making racist jokes “retard” “gay” any rape joke think they so tough. also men when we say they are not funny']"
      ]
     },
     "execution_count": 209,
     "metadata": {},
     "output_type": "execute_result"
    }
   ],
   "source": [
    "sentences2"
   ]
  },
  {
   "cell_type": "code",
   "execution_count": 210,
   "id": "e2312c6e-40aa-42dd-aff6-574ba9d4910b",
   "metadata": {},
   "outputs": [],
   "source": [
    "# instantiate model \n",
    "sbert_cos = SentenceTransformer('all-MiniLM-L6-v2')\n",
    "\n",
    "# compute embedding for both lists \n",
    "embeddings1 = sbert_cos.encode(sentences1, convert_to_tensor=True)\n",
    "embeddings2 = sbert_cos.encode(sentences2, convert_to_tensor=True)\n",
    "\n",
    "# compute cosine-similarities \n",
    "cosine_scores = util.cos_sim(embeddings1, embeddings2)"
   ]
  },
  {
   "cell_type": "code",
   "execution_count": 213,
   "id": "5f2c4e3b-c140-4901-81d9-0b2cffecad2c",
   "metadata": {},
   "outputs": [
    {
     "name": "stdout",
     "output_type": "stream",
     "text": [
      "tensor(0.1512)\n",
      "tensor(0.4775)\n"
     ]
    }
   ],
   "source": [
    "#Output the pairs with their score\n",
    "for i in range(len(sentences1)):\n",
    "    # print(\"{} \\t\\t {} \\t\\t Score: {:.4f}\".format(sentences1[i], sentences2[i], cosine_scores[i][i]))\n",
    "    print(cosine_scores[i][i])"
   ]
  },
  {
   "cell_type": "markdown",
   "id": "19f88bc6-af76-482c-96fe-ed32c53c54da",
   "metadata": {},
   "source": [
    "### SBERT and cosine similarities scaled up "
   ]
  },
  {
   "cell_type": "code",
   "execution_count": null,
   "id": "24521d9a-8d1b-4f52-9644-9a55e78feb13",
   "metadata": {},
   "outputs": [],
   "source": []
  }
 ],
 "metadata": {
  "kernelspec": {
   "display_name": "Python 3 (ipykernel)",
   "language": "python",
   "name": "python3"
  },
  "language_info": {
   "codemirror_mode": {
    "name": "ipython",
    "version": 3
   },
   "file_extension": ".py",
   "mimetype": "text/x-python",
   "name": "python",
   "nbconvert_exporter": "python",
   "pygments_lexer": "ipython3",
   "version": "3.9.7"
  }
 },
 "nbformat": 4,
 "nbformat_minor": 5
}
