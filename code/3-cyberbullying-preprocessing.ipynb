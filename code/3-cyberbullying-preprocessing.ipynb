{
 "cells": [
  {
   "cell_type": "code",
   "execution_count": 110,
   "id": "a3a0f3d8-c173-402f-9165-6d2dd6dcc746",
   "metadata": {},
   "outputs": [],
   "source": [
    "import pandas as pd\n",
    "import numpy as np\n",
    "import re\n",
    "\n",
    "from plotnine import *\n",
    "import matplotlib.pyplot as plt\n",
    "import seaborn as sns\n",
    "from sklearn.model_selection import train_test_split\n",
    "from sklearn.linear_model import LogisticRegression, LinearRegression\n",
    "from sklearn.neighbors import KNeighborsClassifier, KNeighborsRegressor\n",
    "from sklearn.tree import DecisionTreeClassifier, DecisionTreeRegressor\n",
    "from sklearn.ensemble import BaggingClassifier, BaggingRegressor\n",
    "from sklearn.ensemble import RandomForestClassifier, AdaBoostClassifier, RandomForestRegressor, AdaBoostRegressor\n",
    "from sklearn.svm import SVC, SVR\n",
    "from sklearn.metrics import confusion_matrix, plot_confusion_matrix, mean_squared_error\n",
    "from sklearn.preprocessing import StandardScaler\n",
    "from sklearn.pipeline import Pipeline\n",
    "from sklearn.feature_extraction.text import CountVectorizer, TfidfVectorizer"
   ]
  },
  {
   "cell_type": "code",
   "execution_count": 91,
   "id": "61e4605f-8fbc-4f84-9b52-3258a94b5adc",
   "metadata": {},
   "outputs": [],
   "source": [
    "df = pd.read_csv(\"../data/cyberbullying_tweets.csv\")"
   ]
  },
  {
   "cell_type": "code",
   "execution_count": 92,
   "id": "01904fd8-a4bd-4ba4-8f4b-2a40a77c14ef",
   "metadata": {},
   "outputs": [
    {
     "data": {
      "text/plain": [
       "(47692, 2)"
      ]
     },
     "execution_count": 92,
     "metadata": {},
     "output_type": "execute_result"
    }
   ],
   "source": [
    "df.shape"
   ]
  },
  {
   "cell_type": "code",
   "execution_count": 93,
   "id": "a3e0afeb-c9c4-4f21-9a35-8ae84cc897a1",
   "metadata": {},
   "outputs": [],
   "source": [
    "#https://stackoverflow.com/questions/11331982/how-to-remove-any-url-within-a-string-in-python\n",
    "def remove_urls (vTEXT):\n",
    "    vTEXT = re.sub(r'(https|http)?:\\/\\/(\\w|\\.|\\/|\\?|\\=|\\&|\\%)*\\b', '', vTEXT, flags=re.MULTILINE)\n",
    "    vTEXT = re.sub('@[^\\s]+','', vTEXT)\n",
    "    return(vTEXT)"
   ]
  },
  {
   "cell_type": "code",
   "execution_count": 94,
   "id": "e4524153-b478-4b69-bc82-36aeebe7d5b7",
   "metadata": {},
   "outputs": [
    {
     "data": {
      "text/html": [
       "<div>\n",
       "<style scoped>\n",
       "    .dataframe tbody tr th:only-of-type {\n",
       "        vertical-align: middle;\n",
       "    }\n",
       "\n",
       "    .dataframe tbody tr th {\n",
       "        vertical-align: top;\n",
       "    }\n",
       "\n",
       "    .dataframe thead th {\n",
       "        text-align: right;\n",
       "    }\n",
       "</style>\n",
       "<table border=\"1\" class=\"dataframe\">\n",
       "  <thead>\n",
       "    <tr style=\"text-align: right;\">\n",
       "      <th></th>\n",
       "      <th>tweet_text</th>\n",
       "      <th>cyberbullying_type</th>\n",
       "      <th>no_links_text</th>\n",
       "      <th>char_len</th>\n",
       "      <th>word_count</th>\n",
       "      <th>contains_link</th>\n",
       "      <th>is_retweet</th>\n",
       "    </tr>\n",
       "  </thead>\n",
       "  <tbody>\n",
       "    <tr>\n",
       "      <th>0</th>\n",
       "      <td>In other words #katandandre, your food was cra...</td>\n",
       "      <td>not_cyberbullying</td>\n",
       "      <td>In other words #katandandre, your food was cra...</td>\n",
       "      <td>61</td>\n",
       "      <td>9</td>\n",
       "      <td>False</td>\n",
       "      <td>False</td>\n",
       "    </tr>\n",
       "    <tr>\n",
       "      <th>1</th>\n",
       "      <td>Why is #aussietv so white? #MKR #theblock #ImA...</td>\n",
       "      <td>not_cyberbullying</td>\n",
       "      <td>Why is #aussietv so white? #MKR #theblock #ImA...</td>\n",
       "      <td>115</td>\n",
       "      <td>14</td>\n",
       "      <td>False</td>\n",
       "      <td>False</td>\n",
       "    </tr>\n",
       "    <tr>\n",
       "      <th>2</th>\n",
       "      <td>@XochitlSuckkks a classy whore? Or more red ve...</td>\n",
       "      <td>not_cyberbullying</td>\n",
       "      <td>a classy whore? Or more red velvet cupcakes?</td>\n",
       "      <td>45</td>\n",
       "      <td>8</td>\n",
       "      <td>False</td>\n",
       "      <td>False</td>\n",
       "    </tr>\n",
       "    <tr>\n",
       "      <th>3</th>\n",
       "      <td>@Jason_Gio meh. :P  thanks for the heads up, b...</td>\n",
       "      <td>not_cyberbullying</td>\n",
       "      <td>meh. :P  thanks for the heads up, but not too...</td>\n",
       "      <td>93</td>\n",
       "      <td>17</td>\n",
       "      <td>False</td>\n",
       "      <td>False</td>\n",
       "    </tr>\n",
       "    <tr>\n",
       "      <th>4</th>\n",
       "      <td>@RudhoeEnglish This is an ISIS account pretend...</td>\n",
       "      <td>not_cyberbullying</td>\n",
       "      <td>This is an ISIS account pretending to be a Ku...</td>\n",
       "      <td>89</td>\n",
       "      <td>17</td>\n",
       "      <td>False</td>\n",
       "      <td>False</td>\n",
       "    </tr>\n",
       "  </tbody>\n",
       "</table>\n",
       "</div>"
      ],
      "text/plain": [
       "                                          tweet_text cyberbullying_type  \\\n",
       "0  In other words #katandandre, your food was cra...  not_cyberbullying   \n",
       "1  Why is #aussietv so white? #MKR #theblock #ImA...  not_cyberbullying   \n",
       "2  @XochitlSuckkks a classy whore? Or more red ve...  not_cyberbullying   \n",
       "3  @Jason_Gio meh. :P  thanks for the heads up, b...  not_cyberbullying   \n",
       "4  @RudhoeEnglish This is an ISIS account pretend...  not_cyberbullying   \n",
       "\n",
       "                                       no_links_text  char_len  word_count  \\\n",
       "0  In other words #katandandre, your food was cra...        61           9   \n",
       "1  Why is #aussietv so white? #MKR #theblock #ImA...       115          14   \n",
       "2       a classy whore? Or more red velvet cupcakes?        45           8   \n",
       "3   meh. :P  thanks for the heads up, but not too...        93          17   \n",
       "4   This is an ISIS account pretending to be a Ku...        89          17   \n",
       "\n",
       "   contains_link  is_retweet  \n",
       "0          False       False  \n",
       "1          False       False  \n",
       "2          False       False  \n",
       "3          False       False  \n",
       "4          False       False  "
      ]
     },
     "execution_count": 94,
     "metadata": {},
     "output_type": "execute_result"
    }
   ],
   "source": [
    "#remove links \n",
    "df['no_links_text'] = [remove_urls(i) for i in df['tweet_text']]\n",
    "\n",
    "#character and word length\n",
    "df['char_len'] = [len(i) for i in df.no_links_text]\n",
    "df['word_count'] = [len(i.split()) for i in df.no_links_text]\n",
    "\n",
    "\n",
    "df['contains_link'] = np.where(df['tweet_text'].str.contains('http'),True,False)\n",
    "df['is_retweet'] = np.where(df['tweet_text'].str.contains('RT'),True,False)\n",
    "\n",
    "\n",
    "df.head(5)"
   ]
  },
  {
   "cell_type": "code",
   "execution_count": 95,
   "id": "523e6eeb-eefc-4613-b046-e1d149c0e9b5",
   "metadata": {},
   "outputs": [],
   "source": [
    "df = pd.read_csv(r'C:\\Users\\Dask\\Downloads\\cleaned_tweets_sample.csv')"
   ]
  },
  {
   "cell_type": "code",
   "execution_count": 96,
   "id": "d247091e-adce-45ce-9136-8a9257cb7722",
   "metadata": {},
   "outputs": [],
   "source": [
    "df = df.dropna()"
   ]
  },
  {
   "cell_type": "code",
   "execution_count": 97,
   "id": "b3d31c6c-3fc2-4c83-ac93-df34c5c7be69",
   "metadata": {},
   "outputs": [],
   "source": [
    "X = df['no_links_text']\n",
    "y = df['cyberbullying_type']"
   ]
  },
  {
   "cell_type": "code",
   "execution_count": 98,
   "id": "02c66964-2965-4b65-b385-e6a4dc9d64ed",
   "metadata": {},
   "outputs": [],
   "source": [
    "X_train, X_test, y_train, y_test = train_test_split(X, y,\n",
    "                                                    random_state = 42,\n",
    "                                                    stratify=y,\n",
    "                                                    test_size = 0.2)"
   ]
  },
  {
   "cell_type": "code",
   "execution_count": 113,
   "id": "94e99ad4-5f77-431d-a09f-a0b4ad397c65",
   "metadata": {},
   "outputs": [],
   "source": [
    "cv = CountVectorizer()\n",
    "tf = TfidfVectorizer()"
   ]
  },
  {
   "cell_type": "code",
   "execution_count": null,
   "id": "19f8ab55-069c-4e55-af63-688c0d07c2d2",
   "metadata": {},
   "outputs": [],
   "source": [
    "#support vector"
   ]
  },
  {
   "cell_type": "code",
   "execution_count": 114,
   "id": "f81361b2-0f1a-406f-b559-767995786f07",
   "metadata": {},
   "outputs": [
    {
     "data": {
      "text/plain": [
       "(0.9078810020876826, 0.7693110647181628)"
      ]
     },
     "execution_count": 114,
     "metadata": {},
     "output_type": "execute_result"
    }
   ],
   "source": [
    "svc = SVC()\n",
    "pipe = Pipeline([\n",
    "    ('cv', CountVectorizer()),\n",
    "    ('svc', SVC())\n",
    "])\n",
    "pipe.fit(X_train, y_train)\n",
    "\n",
    "pipe.score(X_train, y_train), pipe.score(X_test, y_test)"
   ]
  },
  {
   "cell_type": "code",
   "execution_count": 117,
   "id": "5b6b630d-6f4a-4b1a-a67c-b95f0515e38f",
   "metadata": {},
   "outputs": [
    {
     "data": {
      "text/plain": [
       "(0.9903444676409185, 0.7891440501043842)"
      ]
     },
     "execution_count": 117,
     "metadata": {},
     "output_type": "execute_result"
    }
   ],
   "source": [
    "svc = SVC()\n",
    "pipe = Pipeline([\n",
    "    ('tf', TfidfVectorizer()),\n",
    "    ('svc', SVC())\n",
    "])\n",
    "pipe.fit(X_train, y_train)\n",
    "\n",
    "pipe.score(X_train, y_train), pipe.score(X_test, y_test)"
   ]
  },
  {
   "cell_type": "code",
   "execution_count": null,
   "id": "8c5e50d1-f50a-41de-a095-3c4a5f7f8584",
   "metadata": {},
   "outputs": [],
   "source": [
    "#random forests"
   ]
  },
  {
   "cell_type": "code",
   "execution_count": 118,
   "id": "472c2192-cf33-4dc3-ab6f-b21f28e586b5",
   "metadata": {},
   "outputs": [
    {
     "data": {
      "text/plain": [
       "(0.994258872651357, 0.7964509394572025)"
      ]
     },
     "execution_count": 118,
     "metadata": {},
     "output_type": "execute_result"
    }
   ],
   "source": [
    "rfc = RandomForestClassifier(n_estimators = 100)\n",
    "pipe = Pipeline([\n",
    "    ('tf', TfidfVectorizer()),\n",
    "    ('rfc', RandomForestClassifier())\n",
    "])\n",
    "pipe.fit(X_train, y_train)\n",
    "\n",
    "pipe.score(X_train, y_train), pipe.score(X_test, y_test)"
   ]
  },
  {
   "cell_type": "code",
   "execution_count": 119,
   "id": "c59e05eb-33e2-4cfd-a99d-826b7a1935a5",
   "metadata": {},
   "outputs": [
    {
     "data": {
      "text/plain": [
       "(0.994258872651357, 0.8048016701461378)"
      ]
     },
     "execution_count": 119,
     "metadata": {},
     "output_type": "execute_result"
    }
   ],
   "source": [
    "rfc = RandomForestClassifier(n_estimators = 100)\n",
    "pipe = Pipeline([\n",
    "    ('cv', CountVectorizer()),\n",
    "    ('rfc', RandomForestClassifier())\n",
    "])\n",
    "pipe.fit(X_train, y_train)\n",
    "\n",
    "pipe.score(X_train, y_train), pipe.score(X_test, y_test)"
   ]
  },
  {
   "cell_type": "code",
   "execution_count": null,
   "id": "9e781373-2cb1-4e7e-a267-fab050c7d920",
   "metadata": {},
   "outputs": [],
   "source": [
    "#logistic regression"
   ]
  },
  {
   "cell_type": "code",
   "execution_count": 102,
   "id": "8fcf91a9-2044-4225-88c9-24af812f33fb",
   "metadata": {},
   "outputs": [
    {
     "data": {
      "text/plain": [
       "(0.9856471816283925, 0.7985386221294363)"
      ]
     },
     "execution_count": 102,
     "metadata": {},
     "output_type": "execute_result"
    }
   ],
   "source": [
    "logreg = LogisticRegression()\n",
    "pipe = Pipeline([\n",
    "    ('cv', CountVectorizer()),\n",
    "    ('logreg', LogisticRegression())\n",
    "])\n",
    "pipe.fit(X_train, y_train)\n",
    "\n",
    "pipe.score(X_train, y_train), pipe.score(X_test, y_test)"
   ]
  },
  {
   "cell_type": "code",
   "execution_count": null,
   "id": "85fc09ae-3026-4118-bf01-0d982ffd2c1d",
   "metadata": {},
   "outputs": [],
   "source": [
    "#KNN"
   ]
  },
  {
   "cell_type": "code",
   "execution_count": 103,
   "id": "b7117601-772f-44b0-a052-3c46cc72b131",
   "metadata": {},
   "outputs": [
    {
     "data": {
      "text/plain": [
       "(0.6495302713987474, 0.4812108559498956)"
      ]
     },
     "execution_count": 103,
     "metadata": {},
     "output_type": "execute_result"
    }
   ],
   "source": [
    "knc = KNeighborsClassifier()\n",
    "pipe = Pipeline([\n",
    "    ('cv', CountVectorizer()),\n",
    "    ('knc', KNeighborsClassifier())\n",
    "])\n",
    "pipe.fit(X_train, y_train)\n",
    "\n",
    "pipe.score(X_train, y_train), pipe.score(X_test, y_test)"
   ]
  },
  {
   "cell_type": "code",
   "execution_count": null,
   "id": "5d1bacbb-e6fa-4ab8-8e53-bcffaf2ba1e3",
   "metadata": {},
   "outputs": [],
   "source": [
    "#Decision trees"
   ]
  },
  {
   "cell_type": "code",
   "execution_count": 104,
   "id": "8c8d05ec-c360-448a-b827-583304311c32",
   "metadata": {},
   "outputs": [
    {
     "data": {
      "text/plain": [
       "(0.994258872651357, 0.7745302713987474)"
      ]
     },
     "execution_count": 104,
     "metadata": {},
     "output_type": "execute_result"
    }
   ],
   "source": [
    "dtc = DecisionTreeClassifier()\n",
    "pipe = Pipeline([\n",
    "    ('cv', CountVectorizer()),\n",
    "    ('dtc', DecisionTreeClassifier())\n",
    "])\n",
    "pipe.fit(X_train, y_train)\n",
    "\n",
    "pipe.score(X_train, y_train), pipe.score(X_test, y_test)"
   ]
  },
  {
   "cell_type": "code",
   "execution_count": null,
   "id": "b425028a-1cb2-4b44-aee2-91c6df35738e",
   "metadata": {},
   "outputs": [],
   "source": [
    "#ADAboosted"
   ]
  },
  {
   "cell_type": "code",
   "execution_count": 105,
   "id": "382a0e7b-dd36-43d4-9706-aeabd46c2d50",
   "metadata": {},
   "outputs": [
    {
     "data": {
      "text/plain": [
       "(0.6829331941544885, 0.6691022964509394)"
      ]
     },
     "execution_count": 105,
     "metadata": {},
     "output_type": "execute_result"
    }
   ],
   "source": [
    "abc = AdaBoostClassifier()\n",
    "pipe = Pipeline([\n",
    "    ('cv', CountVectorizer()),\n",
    "    ('abc', AdaBoostClassifier())\n",
    "])\n",
    "pipe.fit(X_train, y_train)\n",
    "\n",
    "pipe.score(X_train, y_train), pipe.score(X_test, y_test)"
   ]
  },
  {
   "cell_type": "code",
   "execution_count": null,
   "id": "9500e8f3-6ab5-4d29-9780-1a411698d7b7",
   "metadata": {},
   "outputs": [],
   "source": [
    "#Best model"
   ]
  },
  {
   "cell_type": "code",
   "execution_count": 143,
   "id": "622aa67e-cc4b-499b-b70c-e3f3dffc837f",
   "metadata": {},
   "outputs": [
    {
     "data": {
      "text/plain": [
       "(0.9099686847599165, 0.7995824634655533)"
      ]
     },
     "execution_count": 143,
     "metadata": {},
     "output_type": "execute_result"
    }
   ],
   "source": [
    "tf_log = Pipeline([\n",
    "    ('tf', TfidfVectorizer(stop_words = 'english', min_df=4)), \n",
    "    ('lr', LogisticRegression(multi_class='multinomial', solver='lbfgs', max_iter=200))\n",
    "])\n",
    "\n",
    "tf_log.fit(X_train, y_train)\n",
    "tf_log.score(X_train, y_train), tf_log.score(X_test, y_test)"
   ]
  },
  {
   "cell_type": "code",
   "execution_count": 145,
   "id": "a3ec1af9-3748-4dff-8431-fc6efe7b094e",
   "metadata": {},
   "outputs": [],
   "source": [
    "t_df = pd.read_csv(r'C:\\Users\\Dask\\Documents\\Code\\dsi\\project5\\cyberbullying-classification\\data\\realdonaldtrump.csv')"
   ]
  },
  {
   "cell_type": "code",
   "execution_count": 144,
   "id": "c87534b8-a086-47b4-8470-f5a5db1f0785",
   "metadata": {},
   "outputs": [
    {
     "data": {
      "text/plain": [
       "predictions        \n",
       "not_cyberbullying      21152\n",
       "other_cyberbullying    19700\n",
       "religion                1499\n",
       "gender                   421\n",
       "ethnicity                396\n",
       "age                      184\n",
       "dtype: int64"
      ]
     },
     "execution_count": 144,
     "metadata": {},
     "output_type": "execute_result"
    }
   ],
   "source": [
    "preds = tf_log.predict(t_df['content'])\n",
    "pred_df = pd.DataFrame(preds, columns=['predictions'])\n",
    "pred_df.value_counts()"
   ]
  },
  {
   "cell_type": "code",
   "execution_count": null,
   "id": "3f2789f2-c357-484e-ac25-d12fba590725",
   "metadata": {},
   "outputs": [],
   "source": []
  }
 ],
 "metadata": {
  "kernelspec": {
   "display_name": "Python 3 (ipykernel)",
   "language": "python",
   "name": "python3"
  },
  "language_info": {
   "codemirror_mode": {
    "name": "ipython",
    "version": 3
   },
   "file_extension": ".py",
   "mimetype": "text/x-python",
   "name": "python",
   "nbconvert_exporter": "python",
   "pygments_lexer": "ipython3",
   "version": "3.9.7"
  }
 },
 "nbformat": 4,
 "nbformat_minor": 5
}
