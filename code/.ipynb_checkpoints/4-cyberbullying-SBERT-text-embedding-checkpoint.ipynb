{
 "cells": [
  {
   "cell_type": "markdown",
   "id": "3db78057-b9b2-42a1-aa57-947c90118af9",
   "metadata": {},
   "source": [
    "# Part 4: SentenceBert + Classifier NNs"
   ]
  },
  {
   "cell_type": "markdown",
   "id": "fdcfd993-2aa5-4c80-8bb3-97e79a2767bd",
   "metadata": {},
   "source": [
    "Test text embedding method SBERT and incorporate into multiclass model. Start with smaller datasets here before running the full dataset in google colab."
   ]
  },
  {
   "cell_type": "markdown",
   "id": "3521de6b-3e4d-4dcf-a7a4-2c75cd1ca0da",
   "metadata": {},
   "source": [
    "## Imports"
   ]
  },
  {
   "cell_type": "code",
   "execution_count": 167,
   "id": "0d867b11-19a9-4182-b526-c1912415dbfa",
   "metadata": {},
   "outputs": [],
   "source": [
    "import pandas as pd\n",
    "import numpy as np\n",
    "import matplotlib.pyplot as plt\n",
    "import seaborn as sns \n",
    "\n",
    "from sentence_transformers import SentenceTransformer, util\n",
    "from sklearn.preprocessing import LabelEncoder\n",
    "\n",
    "from sklearn.model_selection import train_test_split, cross_val_score, KFold\n",
    "from keras.models import Sequential\n",
    "from keras.layers import Dense, Dropout\n",
    "from keras.wrappers.scikit_learn import KerasClassifier\n",
    "from keras.utils import np_utils\n",
    "from keras.callbacks import EarlyStopping\n",
    "\n",
    "# settings\n",
    "pd.options.display.max_colwidth = 500"
   ]
  },
  {
   "cell_type": "markdown",
   "id": "b88e7669-fd38-4e42-b29d-f2d916417f79",
   "metadata": {
    "tags": []
   },
   "source": [
    "## Read in data "
   ]
  },
  {
   "cell_type": "code",
   "execution_count": 168,
   "id": "858d02c5-23e6-4eda-bbd7-a61dd4399389",
   "metadata": {},
   "outputs": [
    {
     "data": {
      "text/plain": [
       "(47692, 3)"
      ]
     },
     "execution_count": 168,
     "metadata": {},
     "output_type": "execute_result"
    }
   ],
   "source": [
    "df = pd.read_csv(\"../data/cleaned_tweets.csv\")\n",
    "df.shape"
   ]
  },
  {
   "cell_type": "code",
   "execution_count": 169,
   "id": "e01488ff-2f88-4f3e-914a-9e31c9d4bda6",
   "metadata": {},
   "outputs": [
    {
     "data": {
      "text/plain": [
       "(4800, 3)"
      ]
     },
     "execution_count": 169,
     "metadata": {},
     "output_type": "execute_result"
    }
   ],
   "source": [
    "df_sample = pd.read_csv(\"../data/cleaned_tweets_sample.csv\")\n",
    "df_sample.shape"
   ]
  },
  {
   "cell_type": "markdown",
   "id": "9badd0de-a53c-406f-9b3a-beb742c9a03d",
   "metadata": {},
   "source": [
    "## Neural net sentence transformer and cosine similarities"
   ]
  },
  {
   "cell_type": "markdown",
   "id": "a2e6540d-85b2-44f0-b3d0-0b834419cab2",
   "metadata": {},
   "source": [
    "### SBERT "
   ]
  },
  {
   "cell_type": "markdown",
   "id": "75ea009f-5471-4f1d-be16-72c0e3b42c55",
   "metadata": {},
   "source": [
    "Transorm text with SBERT (SentenceTransformer) and compute cosine similarities for each tweet"
   ]
  },
  {
   "cell_type": "markdown",
   "id": "021f9861-1d6e-4458-ab7c-1fc525d13cbc",
   "metadata": {},
   "source": [
    "#### Citation"
   ]
  },
  {
   "cell_type": "markdown",
   "id": "c687103e-fb8d-4e97-8ef3-a1dd17695b2b",
   "metadata": {},
   "source": [
    "Sentence-BERT: Sentence Embeddings using Siamese BERT-Networks (2019)\n",
    "\n",
    "\n",
    "@inproceedings{reimers-2019-sentence-bert,\n",
    "    title = \"Sentence-BERT: Sentence Embeddings using Siamese BERT-Networks\",\n",
    "    author = \"Reimers, Nils and Gurevych, Iryna\",\n",
    "    booktitle = \"Proceedings of the 2019 Conference on Empirical Methods in Natural Language Processing\",\n",
    "    month = \"11\",\n",
    "    year = \"2019\",\n",
    "    publisher = \"Association for Computational Linguistics\",\n",
    "    url = \"http://arxiv.org/abs/1908.10084\",\n",
    "}\n"
   ]
  },
  {
   "cell_type": "markdown",
   "id": "c45b4998-b43b-442b-8cf5-82e58cc6dd12",
   "metadata": {},
   "source": [
    "### Example from SBERT documentation"
   ]
  },
  {
   "cell_type": "markdown",
   "id": "a27a7a80-68a2-4a84-a569-12080b39a068",
   "metadata": {},
   "source": [
    "Install: pip install -U sentence-transformers"
   ]
  },
  {
   "cell_type": "code",
   "execution_count": 19,
   "id": "ce97ad65-21ab-4c7e-b79b-3cf3b58b463d",
   "metadata": {},
   "outputs": [],
   "source": [
    "# example code from https://www.sbert.net/docs/usage/semantic_textual_similarity.html "
   ]
  },
  {
   "cell_type": "code",
   "execution_count": 170,
   "id": "ffabbfc1-07ec-4d47-982a-c133ab271088",
   "metadata": {},
   "outputs": [
    {
     "name": "stdout",
     "output_type": "stream",
     "text": [
      "Top-5 most similar pairs:\n",
      "A man is eating food. \t A man is eating a piece of bread. \t 0.7553\n",
      "A man is riding a horse. \t A man is riding a white horse on an enclosed ground. \t 0.7369\n",
      "A monkey is playing drums. \t Someone in a gorilla costume is playing a set of drums. \t 0.6433\n",
      "A woman is playing violin. \t Someone in a gorilla costume is playing a set of drums. \t 0.2564\n",
      "A man is eating food. \t A man is riding a horse. \t 0.2474\n"
     ]
    }
   ],
   "source": [
    "model = SentenceTransformer('all-MiniLM-L6-v2')\n",
    "\n",
    "sentences = ['A man is eating food.',\n",
    "          'A man is eating a piece of bread.',\n",
    "          'The girl is carrying a baby.',\n",
    "          'A man is riding a horse.',\n",
    "          'A woman is playing violin.',\n",
    "          'Two men pushed carts through the woods.',\n",
    "          'A man is riding a white horse on an enclosed ground.',\n",
    "          'A monkey is playing drums.',\n",
    "          'Someone in a gorilla costume is playing a set of drums.'\n",
    "          ]\n",
    "\n",
    "#Encode all sentences\n",
    "embeddings = model.encode(sentences)\n",
    "\n",
    "#Compute cosine similarity between all pairs\n",
    "cos_sim = util.cos_sim(embeddings, embeddings)\n",
    "\n",
    "#Add all pairs to a list with their cosine similarity score\n",
    "all_sentence_combinations = []\n",
    "for i in range(len(cos_sim)-1):\n",
    "    for j in range(i+1, len(cos_sim)):\n",
    "        all_sentence_combinations.append([cos_sim[i][j], i, j])\n",
    "\n",
    "#Sort list by the highest cosine similarity score\n",
    "all_sentence_combinations = sorted(all_sentence_combinations, key=lambda x: x[0], reverse=True)\n",
    "\n",
    "print(\"Top-5 most similar pairs:\")\n",
    "for score, i, j in all_sentence_combinations[0:5]:\n",
    "    print(\"{} \\t {} \\t {:.4f}\".format(sentences[i], sentences[j], cos_sim[i][j]))"
   ]
  },
  {
   "cell_type": "code",
   "execution_count": 171,
   "id": "85723423-8072-4bf5-ac16-39e8ed4a6b0b",
   "metadata": {},
   "outputs": [],
   "source": [
    "# change from tensor to array \n",
    "# cos_sim.numpy()"
   ]
  },
  {
   "cell_type": "markdown",
   "id": "d4864c4f-5d0b-4ada-b37e-6ee0f8064de5",
   "metadata": {},
   "source": [
    "### Compare tweets labeled 'gender' with each other \n",
    "Test sbert with 4 sentences from corpus, all vs all "
   ]
  },
  {
   "cell_type": "code",
   "execution_count": 187,
   "id": "9c6d0e43-d0d9-4086-a1b6-8a1d5d835fe4",
   "metadata": {},
   "outputs": [],
   "source": [
    "gender_list = list(df_sample.loc[df_sample['cyberbullying_type'] == 'gender'][:4]['no_links_text'])"
   ]
  },
  {
   "cell_type": "code",
   "execution_count": 193,
   "id": "34d6056a-b1b5-4738-9e31-1e0e0d524796",
   "metadata": {},
   "outputs": [],
   "source": [
    "model = SentenceTransformer('all-MiniLM-L6-v2')\n",
    "\n",
    "sentences = gender_list\n",
    "\n",
    "#Encode all sentences\n",
    "embeddings = model.encode(sentences)\n",
    "\n",
    "#Compute cosine similarity between all pairs\n",
    "cos_sim = util.cos_sim(embeddings, embeddings)\n",
    "\n",
    "#Add all pairs to a list with their cosine similarity score\n",
    "all_sentence_combinations = []\n",
    "for i in range(len(cos_sim)-1):\n",
    "    for j in range(i+1, len(cos_sim)):\n",
    "        all_sentence_combinations.append([cos_sim[i][j], i, j])\n",
    "\n",
    "#Sort list by the highest cosine similarity score\n",
    "all_sentence_combinations = sorted(all_sentence_combinations, key=lambda x: x[0], reverse=True)\n",
    "\n",
    "# print(\"Top-5 most similar pairs:\")\n",
    "# for score, i, j in all_sentence_combinations[0:5]:\n",
    "#     print(\"{} \\t {} \\t {:.4f}\".format(sentences[i], sentences[j], cos_sim[i][j]))"
   ]
  },
  {
   "cell_type": "markdown",
   "id": "3f4e7d66-fc46-4e2a-8fee-e39c794446df",
   "metadata": {},
   "source": [
    "Make data frame from matrix of cosine similarity scores"
   ]
  },
  {
   "cell_type": "code",
   "execution_count": 192,
   "id": "77605db0-31e0-414a-adc2-d5aa00c13dca",
   "metadata": {},
   "outputs": [
    {
     "data": {
      "text/html": [
       "<div>\n",
       "<style scoped>\n",
       "    .dataframe tbody tr th:only-of-type {\n",
       "        vertical-align: middle;\n",
       "    }\n",
       "\n",
       "    .dataframe tbody tr th {\n",
       "        vertical-align: top;\n",
       "    }\n",
       "\n",
       "    .dataframe thead th {\n",
       "        text-align: right;\n",
       "    }\n",
       "</style>\n",
       "<table border=\"1\" class=\"dataframe\">\n",
       "  <thead>\n",
       "    <tr style=\"text-align: right;\">\n",
       "      <th></th>\n",
       "      <th>RT  Sucks to have the smile wiped off your own face huh Kat? She in a glass house should not throw stones. #mkr  #mkr2015</th>\n",
       "      <th>things that AREN'T jokes - rape - sexism - racism - suicide - self harm - Mariah Carey hate - gay as an insult - mental illness</th>\n",
       "      <th>Haha did you watch big brother?, “Zankie” was disgusting and literally a straight guy and gay guy “playing it up”. Also frankie made rape jokes and literally said being lesbian is a choice unlike being gay cuz he’s a mysoginistic ass I am like ???</th>\n",
       "      <th>RT   that a female referee? Not sexist but...  They are only for camps right? This will not be happening in the regu…</th>\n",
       "    </tr>\n",
       "  </thead>\n",
       "  <tbody>\n",
       "    <tr>\n",
       "      <th>RT  Sucks to have the smile wiped off your own face huh Kat? She in a glass house should not throw stones. #mkr  #mkr2015</th>\n",
       "      <td>1.000000</td>\n",
       "      <td>0.205691</td>\n",
       "      <td>0.140987</td>\n",
       "      <td>0.151168</td>\n",
       "    </tr>\n",
       "    <tr>\n",
       "      <th>things that AREN'T jokes - rape - sexism - racism - suicide - self harm - Mariah Carey hate - gay as an insult - mental illness</th>\n",
       "      <td>0.205691</td>\n",
       "      <td>1.000000</td>\n",
       "      <td>0.243075</td>\n",
       "      <td>0.016030</td>\n",
       "    </tr>\n",
       "    <tr>\n",
       "      <th>Haha did you watch big brother?, “Zankie” was disgusting and literally a straight guy and gay guy “playing it up”. Also frankie made rape jokes and literally said being lesbian is a choice unlike being gay cuz he’s a mysoginistic ass I am like ???</th>\n",
       "      <td>0.140987</td>\n",
       "      <td>0.243075</td>\n",
       "      <td>1.000000</td>\n",
       "      <td>0.175584</td>\n",
       "    </tr>\n",
       "    <tr>\n",
       "      <th>RT   that a female referee? Not sexist but...  They are only for camps right? This will not be happening in the regu…</th>\n",
       "      <td>0.151168</td>\n",
       "      <td>0.016030</td>\n",
       "      <td>0.175584</td>\n",
       "      <td>1.000000</td>\n",
       "    </tr>\n",
       "  </tbody>\n",
       "</table>\n",
       "</div>"
      ],
      "text/plain": [
       "                                                                                                                                                                                                                                                         RT  Sucks to have the smile wiped off your own face huh Kat? She in a glass house should not throw stones. #mkr  #mkr2015  \\\n",
       "RT  Sucks to have the smile wiped off your own face huh Kat? She in a glass house should not throw stones. #mkr  #mkr2015                                                                                                                                                                                                                                                 1.000000   \n",
       "things that AREN'T jokes - rape - sexism - racism - suicide - self harm - Mariah Carey hate - gay as an insult - mental illness                                                                                                                                                                                                                                           0.205691   \n",
       "Haha did you watch big brother?, “Zankie” was disgusting and literally a straight guy and gay guy “playing it up”. Also frankie made rape jokes and literally said being lesbian is a choice unlike being gay cuz he’s a mysoginistic ass I am like ???                                                                                                                   0.140987   \n",
       "RT   that a female referee? Not sexist but...  They are only for camps right? This will not be happening in the regu…                                                                                                                                                                                                                                                     0.151168   \n",
       "\n",
       "                                                                                                                                                                                                                                                         things that AREN'T jokes - rape - sexism - racism - suicide - self harm - Mariah Carey hate - gay as an insult - mental illness  \\\n",
       "RT  Sucks to have the smile wiped off your own face huh Kat? She in a glass house should not throw stones. #mkr  #mkr2015                                                                                                                                                                                                                                                       0.205691   \n",
       "things that AREN'T jokes - rape - sexism - racism - suicide - self harm - Mariah Carey hate - gay as an insult - mental illness                                                                                                                                                                                                                                                 1.000000   \n",
       "Haha did you watch big brother?, “Zankie” was disgusting and literally a straight guy and gay guy “playing it up”. Also frankie made rape jokes and literally said being lesbian is a choice unlike being gay cuz he’s a mysoginistic ass I am like ???                                                                                                                         0.243075   \n",
       "RT   that a female referee? Not sexist but...  They are only for camps right? This will not be happening in the regu…                                                                                                                                                                                                                                                           0.016030   \n",
       "\n",
       "                                                                                                                                                                                                                                                         Haha did you watch big brother?, “Zankie” was disgusting and literally a straight guy and gay guy “playing it up”. Also frankie made rape jokes and literally said being lesbian is a choice unlike being gay cuz he’s a mysoginistic ass I am like ???  \\\n",
       "RT  Sucks to have the smile wiped off your own face huh Kat? She in a glass house should not throw stones. #mkr  #mkr2015                                                                                                                                                                                                                                                                                                                                                                               0.140987   \n",
       "things that AREN'T jokes - rape - sexism - racism - suicide - self harm - Mariah Carey hate - gay as an insult - mental illness                                                                                                                                                                                                                                                                                                                                                                         0.243075   \n",
       "Haha did you watch big brother?, “Zankie” was disgusting and literally a straight guy and gay guy “playing it up”. Also frankie made rape jokes and literally said being lesbian is a choice unlike being gay cuz he’s a mysoginistic ass I am like ???                                                                                                                                                                                                                                                 1.000000   \n",
       "RT   that a female referee? Not sexist but...  They are only for camps right? This will not be happening in the regu…                                                                                                                                                                                                                                                                                                                                                                                   0.175584   \n",
       "\n",
       "                                                                                                                                                                                                                                                         RT   that a female referee? Not sexist but...  They are only for camps right? This will not be happening in the regu…  \n",
       "RT  Sucks to have the smile wiped off your own face huh Kat? She in a glass house should not throw stones. #mkr  #mkr2015                                                                                                                                                                                                                                             0.151168  \n",
       "things that AREN'T jokes - rape - sexism - racism - suicide - self harm - Mariah Carey hate - gay as an insult - mental illness                                                                                                                                                                                                                                       0.016030  \n",
       "Haha did you watch big brother?, “Zankie” was disgusting and literally a straight guy and gay guy “playing it up”. Also frankie made rape jokes and literally said being lesbian is a choice unlike being gay cuz he’s a mysoginistic ass I am like ???                                                                                                               0.175584  \n",
       "RT   that a female referee? Not sexist but...  They are only for camps right? This will not be happening in the regu…                                                                                                                                                                                                                                                 1.000000  "
      ]
     },
     "execution_count": 192,
     "metadata": {},
     "output_type": "execute_result"
    }
   ],
   "source": [
    "gender_df = pd.DataFrame(cos_sim.numpy(), \n",
    "                        columns=gender_list, \n",
    "                        index=gender_list)\n",
    "\n",
    "gender_df"
   ]
  },
  {
   "cell_type": "markdown",
   "id": "ea41180b-9a95-40a4-9848-e653fbfaca5f",
   "metadata": {},
   "source": [
    "## Keras classifier model with SBERT embedded text"
   ]
  },
  {
   "cell_type": "code",
   "execution_count": null,
   "id": "24521d9a-8d1b-4f52-9644-9a55e78feb13",
   "metadata": {},
   "outputs": [],
   "source": [
    "# Code for keras classifier model adapted from Jason Brownlee https://machinelearningmastery.com/multi-class-classification-tutorial-keras-deep-learning-library/"
   ]
  },
  {
   "cell_type": "markdown",
   "id": "e61c256d-ded9-43ee-bc3a-347ccf63c180",
   "metadata": {},
   "source": [
    "### Train test split on 1% sample of dataset "
   ]
  },
  {
   "cell_type": "code",
   "execution_count": 194,
   "id": "1aba7b0e-7f86-4ace-8004-d45905cf9eee",
   "metadata": {},
   "outputs": [],
   "source": [
    "df_1percent = df_sample.sample(480, random_state=42)"
   ]
  },
  {
   "cell_type": "code",
   "execution_count": 199,
   "id": "e56ddb16-53c7-4471-b3b9-67621ab6167d",
   "metadata": {},
   "outputs": [],
   "source": [
    "# y = df_1percent['cyberbullying_type']\n",
    "# X = df_1percent['no_links_text']\n",
    "\n",
    "# X_train, X_test, y_train, y_test = train_test_split(X, y, random_state=42, stratify=y)"
   ]
  },
  {
   "cell_type": "markdown",
   "id": "e6587506-e496-45fa-83c6-e925b941eb91",
   "metadata": {},
   "source": [
    "### Train test split on 10% sample of dataset "
   ]
  },
  {
   "cell_type": "code",
   "execution_count": 331,
   "id": "a9adf648-72b7-43be-a3ad-75da9a347613",
   "metadata": {},
   "outputs": [],
   "source": [
    "y = df_sample['cyberbullying_type']\n",
    "X = df_sample['no_links_text']\n",
    "\n",
    "X_train, X_test, y_train, y_test = train_test_split(X, y, random_state=42, stratify=y)"
   ]
  },
  {
   "cell_type": "markdown",
   "id": "a40362e3-e624-411f-b80c-366e39722668",
   "metadata": {},
   "source": [
    "### Process class labels: y_train, y_test"
   ]
  },
  {
   "cell_type": "code",
   "execution_count": 332,
   "id": "38671433-44e3-44b2-9a8d-e7e75b52d7d5",
   "metadata": {},
   "outputs": [
    {
     "data": {
      "text/plain": [
       "((3600, 6), (1200, 6))"
      ]
     },
     "execution_count": 332,
     "metadata": {},
     "output_type": "execute_result"
    }
   ],
   "source": [
    "# encode and dummify class values as integers (y)\n",
    "\n",
    "# Instantiate and fit label encoder \n",
    "encoder = LabelEncoder()\n",
    "encoder.fit(y_train)\n",
    "\n",
    "# Transform y_train \n",
    "encoded_y_train = encoder.transform(y_train)\n",
    "dummy_y_train = np_utils.to_categorical(encoded_y_train)\n",
    "\n",
    "# Transform y_test\n",
    "encoded_y_test = encoder.transform(y_test)\n",
    "dummy_y_test = np_utils.to_categorical(encoded_y_test)\n",
    "\n",
    "dummy_y_train.shape, dummy_y_test.shape"
   ]
  },
  {
   "cell_type": "markdown",
   "id": "ca630d25-2a57-4a25-8074-f672c07d6e29",
   "metadata": {},
   "source": [
    "### Process tweets: X_train, X_test"
   ]
  },
  {
   "cell_type": "code",
   "execution_count": 342,
   "id": "b26a701c-63d6-4944-a616-499ddb65bc85",
   "metadata": {},
   "outputs": [],
   "source": [
    "X_train_list = [str(each) for each in X_train]\n",
    "X_test_list = [str(each) for each in X_test]"
   ]
  },
  {
   "cell_type": "code",
   "execution_count": 343,
   "id": "68c0932e-98ba-42b2-a9ad-c95ee6f92dd7",
   "metadata": {},
   "outputs": [
    {
     "data": {
      "text/plain": [
       "((3600, 384), (1200, 384))"
      ]
     },
     "execution_count": 343,
     "metadata": {},
     "output_type": "execute_result"
    }
   ],
   "source": [
    "# embed tweets (X)\n",
    "st = SentenceTransformer('all-MiniLM-L6-v2')\n",
    "X_train_embeddings = st.encode(X_train_list)\n",
    "X_test_embeddings = st.encode(X_test_list)\n",
    "\n",
    "X_train_embeddings.shape, X_test_embeddings.shape"
   ]
  },
  {
   "cell_type": "markdown",
   "id": "4a3122a5-6249-4265-b28e-096b195275b1",
   "metadata": {},
   "source": [
    "### Check baseline accuracy with cross validation "
   ]
  },
  {
   "cell_type": "code",
   "execution_count": 344,
   "id": "e00d9d05-484f-452c-a533-83de1e2e8f72",
   "metadata": {},
   "outputs": [],
   "source": [
    "def classifier_baseline_model():\n",
    "    # create model\n",
    "    model = Sequential()\n",
    "    model.add(Dense(8, activation='relu'))\n",
    "    model.add(Dense(6, activation='softmax'))\n",
    "    # compile model \n",
    "    model.compile(loss='categorical_crossentropy', optimizer='adam', metrics=['acc'])\n",
    "    return model"
   ]
  },
  {
   "cell_type": "code",
   "execution_count": 345,
   "id": "b8358a02-d6e1-43a8-bd5a-25542410b96c",
   "metadata": {},
   "outputs": [
    {
     "name": "stderr",
     "output_type": "stream",
     "text": [
      "/var/folders/tw/90d96q0j6xq841_5j43gdj0c0000gn/T/ipykernel_56147/1933133644.py:3: DeprecationWarning: KerasClassifier is deprecated, use Sci-Keras (https://github.com/adriangb/scikeras) instead. See https://www.adriangb.com/scikeras/stable/migration.html for help migrating.\n",
      "  estimator = KerasClassifier(build_fn=classifier_baseline_model, epochs=25, batch_size=5, verbose=0)\n"
     ]
    },
    {
     "name": "stdout",
     "output_type": "stream",
     "text": [
      "Baseline train accuracy: 77.67% (2.11%)\n"
     ]
    }
   ],
   "source": [
    "# code from https://machinelearningmastery.com/multi-class-classification-tutorial-keras-deep-learning-library/\n",
    "\n",
    "estimator = KerasClassifier(build_fn=classifier_baseline_model, epochs=25, batch_size=5, verbose=0)\n",
    "kfold = KFold(n_splits=10, shuffle=True)\n",
    "\n",
    "results = cross_val_score(estimator, X_train_embeddings, dummy_y_train, cv=kfold)\n",
    "print(\"Baseline train accuracy: %.2f%% (%.2f%%)\" % (results.mean()*100, results.std()*100))"
   ]
  },
  {
   "cell_type": "markdown",
   "id": "6d957b4d-0eb8-4291-b3a6-eb75852d829b",
   "metadata": {},
   "source": [
    "### Improve model (train accuracy score)"
   ]
  },
  {
   "cell_type": "code",
   "execution_count": 346,
   "id": "acbf86e2-986b-4efc-87e0-052d44b252a7",
   "metadata": {},
   "outputs": [],
   "source": [
    "# Use run to restart model \n",
    "tf.keras.backend.clear_session()"
   ]
  },
  {
   "cell_type": "code",
   "execution_count": 347,
   "id": "cf9db27d-f247-44b9-9019-2b64d5f6c289",
   "metadata": {},
   "outputs": [],
   "source": [
    "# build model \n",
    "model = Sequential()\n",
    "model.add(Dense(384, \n",
    "                input_shape=X_train_embeddings[0].shape, \n",
    "                activation='relu'))\n",
    "model.add(Dense(32, activation='relu'))\n",
    "model.add(Dropout(0.2))\n",
    "model.add(Dense(32, activation='relu'))\n",
    "model.add(Dropout(0.2))\n",
    "model.add(Dense(6, activation='softmax'))\n",
    "\n",
    "# compile \n",
    "model.compile(loss='categorical_crossentropy', optimizer='adam', metrics=['acc'])\n",
    "\n",
    "# early stopping\n",
    "early_stop = EarlyStopping(monitor='val_acc', patience=7, verbose=1, restore_best_weights=True,)"
   ]
  },
  {
   "cell_type": "code",
   "execution_count": 348,
   "id": "2d79742a-f116-4ccb-974a-69cb5dfb8cce",
   "metadata": {},
   "outputs": [
    {
     "name": "stdout",
     "output_type": "stream",
     "text": [
      "Epoch 1/25\n",
      "900/900 [==============================] - 9s 9ms/step - loss: 0.8872 - acc: 0.6686 - val_loss: 0.6566 - val_acc: 0.7550\n",
      "Epoch 2/25\n",
      "900/900 [==============================] - 8s 9ms/step - loss: 0.5463 - acc: 0.7933 - val_loss: 0.6212 - val_acc: 0.7758\n",
      "Epoch 3/25\n",
      "900/900 [==============================] - 7s 8ms/step - loss: 0.4700 - acc: 0.8272 - val_loss: 0.6481 - val_acc: 0.7758\n",
      "Epoch 4/25\n",
      "900/900 [==============================] - 9s 10ms/step - loss: 0.3823 - acc: 0.8619 - val_loss: 0.6682 - val_acc: 0.7717\n",
      "Epoch 5/25\n",
      "900/900 [==============================] - 10s 11ms/step - loss: 0.3098 - acc: 0.8914 - val_loss: 0.7243 - val_acc: 0.7642\n",
      "Epoch 6/25\n",
      "900/900 [==============================] - 8s 9ms/step - loss: 0.2579 - acc: 0.9167 - val_loss: 0.7840 - val_acc: 0.7675\n",
      "Epoch 7/25\n",
      "900/900 [==============================] - 7s 8ms/step - loss: 0.1945 - acc: 0.9347 - val_loss: 0.8807 - val_acc: 0.7675\n",
      "Epoch 8/25\n",
      "900/900 [==============================] - 8s 9ms/step - loss: 0.1520 - acc: 0.9494 - val_loss: 0.9973 - val_acc: 0.7658\n",
      "Epoch 9/25\n",
      "892/900 [============================>.] - ETA: 0s - loss: 0.1148 - acc: 0.9680Restoring model weights from the end of the best epoch: 2.\n",
      "900/900 [==============================] - 4s 5ms/step - loss: 0.1151 - acc: 0.9681 - val_loss: 1.0693 - val_acc: 0.7675\n",
      "Epoch 9: early stopping\n"
     ]
    }
   ],
   "source": [
    "history = model.fit(\n",
    "    X_train_embeddings, \n",
    "    dummy_y_train, \n",
    "    validation_data = (X_test_embeddings, dummy_y_test), \n",
    "    epochs = 25, \n",
    "    batch_size=4, \n",
    "    callbacks=[early_stop],\n",
    "    verbose=1, \n",
    ")"
   ]
  },
  {
   "cell_type": "markdown",
   "id": "dbf6011f-7c20-466b-9424-2e4403f09092",
   "metadata": {
    "tags": []
   },
   "source": [
    "### Results from 10% df (4800 rows) model"
   ]
  },
  {
   "cell_type": "markdown",
   "id": "4ba1593a-4ca2-434b-954c-66e0af38e33a",
   "metadata": {},
   "source": [
    "Baseline train accuracy: 77.67% (2.11%)\n",
    "\n",
    "Epoch 2/25\n",
    "900/900 [==============================] - 8s 9ms/step - loss: 0.5463 - acc: 0.7933 - val_loss: 0.6212 - val_acc: 0.7758"
   ]
  },
  {
   "cell_type": "code",
   "execution_count": 361,
   "id": "83a24b15-c5f4-4608-84b1-3068c62d5013",
   "metadata": {},
   "outputs": [
    {
     "data": {
      "text/plain": [
       "(0.8272222280502319, 0.7758333086967468)"
      ]
     },
     "execution_count": 361,
     "metadata": {},
     "output_type": "execute_result"
    }
   ],
   "source": [
    "history.history['acc'][2], history.history['val_acc'][2]"
   ]
  },
  {
   "cell_type": "code",
   "execution_count": 350,
   "id": "bdb4e983-fead-4710-afc2-f3e67bd4ba4e",
   "metadata": {},
   "outputs": [
    {
     "data": {
      "image/png": "[encoded data removed]",
      "text/plain": [
       "<Figure size 432x288 with 1 Axes>"
      ]
     },
     "metadata": {
      "needs_background": "light"
     },
     "output_type": "display_data"
    }
   ],
   "source": [
    "plt.plot(history.history['acc'], label='Train Accurary')\n",
    "plt.plot(history.history['val_acc'], label='Test Accurary')\n",
    "plt.legend();"
   ]
  },
  {
   "cell_type": "code",
   "execution_count": 364,
   "id": "15d211f2-85c1-4e61-b263-904699ccb82e",
   "metadata": {},
   "outputs": [
    {
     "name": "stdout",
     "output_type": "stream",
     "text": [
      "Model: \"sequential\"\n",
      "_________________________________________________________________\n",
      " Layer (type)                Output Shape              Param #   \n",
      "=================================================================\n",
      " dense (Dense)               (None, 384)               147840    \n",
      "                                                                 \n",
      " dense_1 (Dense)             (None, 32)                12320     \n",
      "                                                                 \n",
      " dropout (Dropout)           (None, 32)                0         \n",
      "                                                                 \n",
      " dense_2 (Dense)             (None, 32)                1056      \n",
      "                                                                 \n",
      " dropout_1 (Dropout)         (None, 32)                0         \n",
      "                                                                 \n",
      " dense_3 (Dense)             (None, 6)                 198       \n",
      "                                                                 \n",
      "=================================================================\n",
      "Total params: 161,414\n",
      "Trainable params: 161,414\n",
      "Non-trainable params: 0\n",
      "_________________________________________________________________\n"
     ]
    }
   ],
   "source": [
    "model_10percent = model\n",
    "model_10percent.summary()"
   ]
  },
  {
   "cell_type": "markdown",
   "id": "4e9d17b3-40f6-4106-8c9e-fca4e80210cc",
   "metadata": {
    "tags": []
   },
   "source": [
    "### Results from 1% df (480 rows) model"
   ]
  },
  {
   "cell_type": "markdown",
   "id": "9bcb2902-8f8c-4811-9249-6fde7aac9775",
   "metadata": {},
   "source": [
    "Baseline train accuracy: 74.17% (6.58%)"
   ]
  },
  {
   "cell_type": "markdown",
   "id": "ad6c7767-ad28-4a01-abb0-cfe70ef0366f",
   "metadata": {},
   "source": [
    "Very small dataset, overfitting expected"
   ]
  },
  {
   "cell_type": "code",
   "execution_count": 360,
   "id": "e1454dcc-17cc-4af1-b80b-fb7f71ac29a2",
   "metadata": {},
   "outputs": [
    {
     "data": {
      "text/plain": [
       "(0.925000011920929, 0.7250000238418579)"
      ]
     },
     "execution_count": 360,
     "metadata": {},
     "output_type": "execute_result"
    }
   ],
   "source": [
    "history_1percent.history['acc'][5], history_1percent.history['val_acc'][5]"
   ]
  },
  {
   "cell_type": "code",
   "execution_count": 310,
   "id": "be7c6988-d629-4bf9-b7d1-cb54d8024d1a",
   "metadata": {},
   "outputs": [],
   "source": [
    "history_1percent = history"
   ]
  },
  {
   "cell_type": "code",
   "execution_count": 311,
   "id": "968a974f-7ad3-4bd5-a598-bc41a426f660",
   "metadata": {},
   "outputs": [
    {
     "data": {
      "image/png": "[encoded data removed]",
      "text/plain": [
       "<Figure size 432x288 with 1 Axes>"
      ]
     },
     "metadata": {
      "needs_background": "light"
     },
     "output_type": "display_data"
    }
   ],
   "source": [
    "plt.plot(history_1percent.history['acc'], label='Train Accurary')\n",
    "plt.plot(history_1percent.history['val_acc'], label='Test Accurary')\n",
    "plt.legend();"
   ]
  },
  {
   "cell_type": "code",
   "execution_count": 315,
   "id": "478de01a-3d84-4f98-adc7-d19bcadfadb6",
   "metadata": {},
   "outputs": [
    {
     "name": "stdout",
     "output_type": "stream",
     "text": [
      "Model: \"sequential\"\n",
      "_________________________________________________________________\n",
      " Layer (type)                Output Shape              Param #   \n",
      "=================================================================\n",
      " dense (Dense)               (None, 384)               147840    \n",
      "                                                                 \n",
      " dense_1 (Dense)             (None, 32)                12320     \n",
      "                                                                 \n",
      " dropout (Dropout)           (None, 32)                0         \n",
      "                                                                 \n",
      " dense_2 (Dense)             (None, 32)                1056      \n",
      "                                                                 \n",
      " dropout_1 (Dropout)         (None, 32)                0         \n",
      "                                                                 \n",
      " dense_3 (Dense)             (None, 6)                 198       \n",
      "                                                                 \n",
      "=================================================================\n",
      "Total params: 161,414\n",
      "Trainable params: 161,414\n",
      "Non-trainable params: 0\n",
      "_________________________________________________________________\n"
     ]
    }
   ],
   "source": [
    "model_1percent = model\n",
    "model_1percent.summary()"
   ]
  }
 ],
 "metadata": {
  "kernelspec": {
   "display_name": "Python 3 (ipykernel)",
   "language": "python",
   "name": "python3"
  },
  "language_info": {
   "codemirror_mode": {
    "name": "ipython",
    "version": 3
   },
   "file_extension": ".py",
   "mimetype": "text/x-python",
   "name": "python",
   "nbconvert_exporter": "python",
   "pygments_lexer": "ipython3",
   "version": "3.9.7"
  }
 },
 "nbformat": 4,
 "nbformat_minor": 5
}
