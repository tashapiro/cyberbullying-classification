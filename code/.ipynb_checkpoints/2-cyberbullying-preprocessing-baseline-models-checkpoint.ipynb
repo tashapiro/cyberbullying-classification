{
 "cells": [
  {
   "cell_type": "markdown",
   "id": "9ee62995-5277-4403-890f-5588034e7cbf",
   "metadata": {},
   "source": [
    "# Part 2: Text Preprocessing and Baseline Models"
   ]
  },
  {
   "cell_type": "markdown",
   "id": "3521de6b-3e4d-4dcf-a7a4-2c75cd1ca0da",
   "metadata": {},
   "source": [
    "## Imports"
   ]
  },
  {
   "cell_type": "code",
   "execution_count": 17,
   "id": "0d867b11-19a9-4182-b526-c1912415dbfa",
   "metadata": {},
   "outputs": [],
   "source": [
    "import pandas as pd\n",
    "import numpy as np\n",
    "import matplotlib.pyplot as plt\n",
    "import seaborn as sns \n",
    "\n",
    "import re \n",
    "import pickle\n",
    "\n",
    "from sklearn.feature_extraction.text import CountVectorizer, TfidfVectorizer\n",
    "from sklearn.pipeline import Pipeline \n",
    "from sklearn.linear_model import LogisticRegression \n",
    "from sklearn.naive_bayes import MultinomialNB\n",
    "from sklearn.model_selection import train_test_split, GridSearchCV \n",
    "from sklearn.metrics import (confusion_matrix, plot_confusion_matrix, accuracy_score, plot_roc_curve, \n",
    "                            recall_score, precision_score, f1_score, classification_report, log_loss)\n",
    "\n",
    "# settings\n",
    "pd.options.display.max_colwidth = 500"
   ]
  },
  {
   "cell_type": "markdown",
   "id": "b88e7669-fd38-4e42-b29d-f2d916417f79",
   "metadata": {
    "tags": []
   },
   "source": [
    "## Read in data "
   ]
  },
  {
   "cell_type": "code",
   "execution_count": 198,
   "id": "858d02c5-23e6-4eda-bbd7-a61dd4399389",
   "metadata": {},
   "outputs": [],
   "source": [
    "df = pd.read_csv(\"../data/cyberbullying_tweets.csv\")"
   ]
  },
  {
   "cell_type": "code",
   "execution_count": 195,
   "id": "5f919a8c-00ac-4763-bfe2-d26b773a1edb",
   "metadata": {},
   "outputs": [
    {
     "data": {
      "text/plain": [
       "(47692, 2)"
      ]
     },
     "execution_count": 195,
     "metadata": {},
     "output_type": "execute_result"
    }
   ],
   "source": [
    "df.shape"
   ]
  },
  {
   "cell_type": "markdown",
   "id": "44f00303-6e91-4df7-b7f2-a5535992a802",
   "metadata": {},
   "source": [
    "# Text preprocessing "
   ]
  },
  {
   "cell_type": "markdown",
   "id": "8c335e40-57f9-47ad-8d1b-b24acdaf8fd9",
   "metadata": {},
   "source": [
    "Remove urls and usernames "
   ]
  },
  {
   "cell_type": "code",
   "execution_count": 200,
   "id": "177ddaaa-fbdb-4db5-a55c-1ffc605f0287",
   "metadata": {},
   "outputs": [],
   "source": [
    "#https://stackoverflow.com/questions/11331982/how-to-remove-any-url-within-a-string-in-python\n",
    "def remove_urls (vTEXT):\n",
    "    vTEXT = re.sub(r'(https|http)?:\\/\\/(\\w|\\.|\\/|\\?|\\=|\\&|\\%)*\\b', '', vTEXT, flags=re.MULTILINE)\n",
    "    return(vTEXT)"
   ]
  },
  {
   "cell_type": "code",
   "execution_count": 201,
   "id": "14c6659d-c067-438b-8009-2599bdcfb0ae",
   "metadata": {},
   "outputs": [],
   "source": [
    "#remove links \n",
    "df['no_links_text'] = [remove_urls(i) for i in df['tweet_text']]"
   ]
  },
  {
   "cell_type": "code",
   "execution_count": 6,
   "id": "493e50e7-4ace-49bf-aa15-d7fae791f75d",
   "metadata": {},
   "outputs": [
    {
     "data": {
      "text/plain": [
       "'Hello'"
      ]
     },
     "execution_count": 6,
     "metadata": {},
     "output_type": "execute_result"
    }
   ],
   "source": [
    "# code from Devin \n",
    "Tweet = \"Hello@username\"\n",
    "Tweet = re.sub('@[^\\s]+','',Tweet)\n",
    "Tweet"
   ]
  },
  {
   "cell_type": "code",
   "execution_count": 202,
   "id": "c014534f-a7e7-475b-ab82-dcbaf9da9178",
   "metadata": {},
   "outputs": [],
   "source": [
    "# remove user names and @ symbols \n",
    "df['no_links_text'] = df['no_links_text'].map(lambda x: re.sub('@[^\\s]+','',x))"
   ]
  },
  {
   "cell_type": "code",
   "execution_count": 203,
   "id": "255a92ea-68c8-4970-9393-6f2aeff02036",
   "metadata": {},
   "outputs": [],
   "source": [
    "# remove ['&amp;', '&lt;&lt;&lt;']\n",
    "df['no_links_text'] = df['no_links_text'].map(lambda x: re.sub(\"&lt;&lt;&lt;|&amp;#x200B;|&amp;\", ' ', str(x))) "
   ]
  },
  {
   "cell_type": "code",
   "execution_count": 9,
   "id": "805c01a9-3060-4f7d-b890-7e7ddfab467d",
   "metadata": {},
   "outputs": [
    {
     "data": {
      "text/html": [
       "<div>\n",
       "<style scoped>\n",
       "    .dataframe tbody tr th:only-of-type {\n",
       "        vertical-align: middle;\n",
       "    }\n",
       "\n",
       "    .dataframe tbody tr th {\n",
       "        vertical-align: top;\n",
       "    }\n",
       "\n",
       "    .dataframe thead th {\n",
       "        text-align: right;\n",
       "    }\n",
       "</style>\n",
       "<table border=\"1\" class=\"dataframe\">\n",
       "  <thead>\n",
       "    <tr style=\"text-align: right;\">\n",
       "      <th></th>\n",
       "      <th>tweet_text</th>\n",
       "      <th>cyberbullying_type</th>\n",
       "      <th>no_links_text</th>\n",
       "    </tr>\n",
       "  </thead>\n",
       "  <tbody>\n",
       "    <tr>\n",
       "      <th>47687</th>\n",
       "      <td>Black ppl aren't expected to do anything, depended on for anything. Yet free to participate, work, enjoy the freedom of humans all across this globe. If you waste your energy on the past you will be wasting it for building the future.</td>\n",
       "      <td>ethnicity</td>\n",
       "      <td>Black ppl aren't expected to do anything, depended on for anything. Yet free to participate, work, enjoy the freedom of humans all across this globe. If you waste your energy on the past you will be wasting it for building the future.</td>\n",
       "    </tr>\n",
       "    <tr>\n",
       "      <th>47688</th>\n",
       "      <td>Turner did not withhold his disappointment. Turner called the court an “abominable conclave of negro hating demons” (with one exception) who “issued another decree that colored men and women must be driven into Jim Crow cars whenever it suits the whim of any white community.”</td>\n",
       "      <td>ethnicity</td>\n",
       "      <td>Turner did not withhold his disappointment. Turner called the court an “abominable conclave of negro hating demons” (with one exception) who “issued another decree that colored men and women must be driven into Jim Crow cars whenever it suits the whim of any white community.”</td>\n",
       "    </tr>\n",
       "    <tr>\n",
       "      <th>47689</th>\n",
       "      <td>I swear to God. This dumb nigger bitch. I have got to bleach my hair reeeeeal fuckin' soon. D:&amp;lt; FUCK.</td>\n",
       "      <td>ethnicity</td>\n",
       "      <td>I swear to God. This dumb nigger bitch. I have got to bleach my hair reeeeeal fuckin' soon. D:&amp;lt; FUCK.</td>\n",
       "    </tr>\n",
       "    <tr>\n",
       "      <th>47690</th>\n",
       "      <td>Yea fuck you RT @therealexel: IF YOURE A NIGGER FUCKING UNFOLLOW ME, FUCKING DUMB NIGGERS.</td>\n",
       "      <td>ethnicity</td>\n",
       "      <td>Yea fuck you RT  IF YOURE A NIGGER FUCKING UNFOLLOW ME, FUCKING DUMB NIGGERS.</td>\n",
       "    </tr>\n",
       "    <tr>\n",
       "      <th>47691</th>\n",
       "      <td>Bro. U gotta chill RT @CHILLShrammy: Dog FUCK KP that dumb nigger bitch lmao</td>\n",
       "      <td>ethnicity</td>\n",
       "      <td>Bro. U gotta chill RT  Dog FUCK KP that dumb nigger bitch lmao</td>\n",
       "    </tr>\n",
       "  </tbody>\n",
       "</table>\n",
       "</div>"
      ],
      "text/plain": [
       "                                                                                                                                                                                                                                                                                 tweet_text  \\\n",
       "47687                                            Black ppl aren't expected to do anything, depended on for anything. Yet free to participate, work, enjoy the freedom of humans all across this globe. If you waste your energy on the past you will be wasting it for building the future.   \n",
       "47688  Turner did not withhold his disappointment. Turner called the court an “abominable conclave of negro hating demons” (with one exception) who “issued another decree that colored men and women must be driven into Jim Crow cars whenever it suits the whim of any white community.”   \n",
       "47689                                                                                                                                                                              I swear to God. This dumb nigger bitch. I have got to bleach my hair reeeeeal fuckin' soon. D:&lt; FUCK.   \n",
       "47690                                                                                                                                                                                            Yea fuck you RT @therealexel: IF YOURE A NIGGER FUCKING UNFOLLOW ME, FUCKING DUMB NIGGERS.   \n",
       "47691                                                                                                                                                                                                          Bro. U gotta chill RT @CHILLShrammy: Dog FUCK KP that dumb nigger bitch lmao   \n",
       "\n",
       "      cyberbullying_type  \\\n",
       "47687          ethnicity   \n",
       "47688          ethnicity   \n",
       "47689          ethnicity   \n",
       "47690          ethnicity   \n",
       "47691          ethnicity   \n",
       "\n",
       "                                                                                                                                                                                                                                                                              no_links_text  \n",
       "47687                                            Black ppl aren't expected to do anything, depended on for anything. Yet free to participate, work, enjoy the freedom of humans all across this globe. If you waste your energy on the past you will be wasting it for building the future.  \n",
       "47688  Turner did not withhold his disappointment. Turner called the court an “abominable conclave of negro hating demons” (with one exception) who “issued another decree that colored men and women must be driven into Jim Crow cars whenever it suits the whim of any white community.”  \n",
       "47689                                                                                                                                                                              I swear to God. This dumb nigger bitch. I have got to bleach my hair reeeeeal fuckin' soon. D:&lt; FUCK.  \n",
       "47690                                                                                                                                                                                                         Yea fuck you RT  IF YOURE A NIGGER FUCKING UNFOLLOW ME, FUCKING DUMB NIGGERS.  \n",
       "47691                                                                                                                                                                                                                        Bro. U gotta chill RT  Dog FUCK KP that dumb nigger bitch lmao  "
      ]
     },
     "execution_count": 9,
     "metadata": {},
     "output_type": "execute_result"
    }
   ],
   "source": [
    "df.tail()"
   ]
  },
  {
   "cell_type": "markdown",
   "id": "43d5db89-d6bd-4940-9be5-cebc11e6ec89",
   "metadata": {},
   "source": [
    "## Export preprocessed dataframe to csv"
   ]
  },
  {
   "cell_type": "code",
   "execution_count": 10,
   "id": "843fd691-1bd9-4dc8-9fbb-df2f4e5731a6",
   "metadata": {},
   "outputs": [],
   "source": [
    "# df.to_csv('../data/cleaned_tweets.csv', index=False)"
   ]
  },
  {
   "cell_type": "markdown",
   "id": "8eec9d22-229f-41fc-af29-0edb7eb01dfd",
   "metadata": {},
   "source": [
    "## Create 10% sample dataframe for modeling "
   ]
  },
  {
   "cell_type": "code",
   "execution_count": 11,
   "id": "38092b02-4ba2-4a85-b6d0-8d26edeac7a0",
   "metadata": {},
   "outputs": [
    {
     "data": {
      "text/html": [
       "<div>\n",
       "<style scoped>\n",
       "    .dataframe tbody tr th:only-of-type {\n",
       "        vertical-align: middle;\n",
       "    }\n",
       "\n",
       "    .dataframe tbody tr th {\n",
       "        vertical-align: top;\n",
       "    }\n",
       "\n",
       "    .dataframe thead th {\n",
       "        text-align: right;\n",
       "    }\n",
       "</style>\n",
       "<table border=\"1\" class=\"dataframe\">\n",
       "  <thead>\n",
       "    <tr style=\"text-align: right;\">\n",
       "      <th></th>\n",
       "      <th>tweet_text</th>\n",
       "      <th>cyberbullying_type</th>\n",
       "      <th>no_links_text</th>\n",
       "    </tr>\n",
       "  </thead>\n",
       "  <tbody>\n",
       "    <tr>\n",
       "      <th>40362</th>\n",
       "      <td>@Goree_JuhssGuns hahaha he ain't even worth my tweets dumb fuck don't knw the diff between \"nigga\" &amp;amp; \"nigger\"</td>\n",
       "      <td>ethnicity</td>\n",
       "      <td>hahaha he ain't even worth my tweets dumb fuck don't knw the diff between \"nigga\"   \"nigger\"</td>\n",
       "    </tr>\n",
       "  </tbody>\n",
       "</table>\n",
       "</div>"
      ],
      "text/plain": [
       "                                                                                                              tweet_text  \\\n",
       "40362  @Goree_JuhssGuns hahaha he ain't even worth my tweets dumb fuck don't knw the diff between \"nigga\" &amp; \"nigger\"   \n",
       "\n",
       "      cyberbullying_type  \\\n",
       "40362          ethnicity   \n",
       "\n",
       "                                                                                       no_links_text  \n",
       "40362   hahaha he ain't even worth my tweets dumb fuck don't knw the diff between \"nigga\"   \"nigger\"  "
      ]
     },
     "execution_count": 11,
     "metadata": {},
     "output_type": "execute_result"
    }
   ],
   "source": [
    "df_sample = df.sample(4800, random_state=42)\n",
    "df_sample.head(1)"
   ]
  },
  {
   "cell_type": "code",
   "execution_count": 12,
   "id": "842c50d8-6ace-4c63-af96-39e4522d48a1",
   "metadata": {},
   "outputs": [
    {
     "data": {
      "text/html": [
       "<div>\n",
       "<style scoped>\n",
       "    .dataframe tbody tr th:only-of-type {\n",
       "        vertical-align: middle;\n",
       "    }\n",
       "\n",
       "    .dataframe tbody tr th {\n",
       "        vertical-align: top;\n",
       "    }\n",
       "\n",
       "    .dataframe thead th {\n",
       "        text-align: right;\n",
       "    }\n",
       "</style>\n",
       "<table border=\"1\" class=\"dataframe\">\n",
       "  <thead>\n",
       "    <tr style=\"text-align: right;\">\n",
       "      <th></th>\n",
       "      <th>tweet_text</th>\n",
       "      <th>cyberbullying_type</th>\n",
       "      <th>no_links_text</th>\n",
       "    </tr>\n",
       "  </thead>\n",
       "  <tbody>\n",
       "    <tr>\n",
       "      <th>28463</th>\n",
       "      <td>Yes, we get it. You're pretty. Tone down the self promo and just cook! @mykitchenrules #MKR</td>\n",
       "      <td>other_cyberbullying</td>\n",
       "      <td>Yes, we get it. You're pretty. Tone down the self promo and just cook!  #MKR</td>\n",
       "    </tr>\n",
       "  </tbody>\n",
       "</table>\n",
       "</div>"
      ],
      "text/plain": [
       "                                                                                        tweet_text  \\\n",
       "28463  Yes, we get it. You're pretty. Tone down the self promo and just cook! @mykitchenrules #MKR   \n",
       "\n",
       "        cyberbullying_type  \\\n",
       "28463  other_cyberbullying   \n",
       "\n",
       "                                                                      no_links_text  \n",
       "28463  Yes, we get it. You're pretty. Tone down the self promo and just cook!  #MKR  "
      ]
     },
     "execution_count": 12,
     "metadata": {},
     "output_type": "execute_result"
    }
   ],
   "source": [
    "df_sample.tail(1)"
   ]
  },
  {
   "cell_type": "code",
   "execution_count": 13,
   "id": "f96a4778-2594-4a28-a5e4-c455cd480d20",
   "metadata": {},
   "outputs": [],
   "source": [
    "# df_sample.to_csv('../data/cleaned_tweets_sample.csv', index=False)"
   ]
  },
  {
   "cell_type": "code",
   "execution_count": 14,
   "id": "aaf99e34-46c1-4fe9-9052-bf834033689a",
   "metadata": {},
   "outputs": [
    {
     "data": {
      "text/plain": [
       "age                    809\n",
       "other_cyberbullying    804\n",
       "ethnicity              801\n",
       "not_cyberbullying      801\n",
       "gender                 800\n",
       "religion               785\n",
       "Name: cyberbullying_type, dtype: int64"
      ]
     },
     "execution_count": 14,
     "metadata": {},
     "output_type": "execute_result"
    }
   ],
   "source": [
    "df_sample['cyberbullying_type'].value_counts()"
   ]
  },
  {
   "cell_type": "markdown",
   "id": "0edbccf2-969d-4bd5-b473-fdec005c8384",
   "metadata": {},
   "source": [
    "# Modeling"
   ]
  },
  {
   "cell_type": "markdown",
   "id": "35c873b7-a953-47ef-b574-7db156245245",
   "metadata": {},
   "source": [
    "## Classifier pipelines"
   ]
  },
  {
   "cell_type": "markdown",
   "id": "8adc558a-87c1-42f9-a2dc-5cee6f629647",
   "metadata": {},
   "source": [
    "Compare text vectorizing methods count vectorizer and term frequency inverse document frequency using logistic regression and naive bayes"
   ]
  },
  {
   "cell_type": "markdown",
   "id": "466063d3-d3b5-4eb9-815f-b24efc5eb9b8",
   "metadata": {},
   "source": [
    "### Train test split on sample dataset "
   ]
  },
  {
   "cell_type": "code",
   "execution_count": 18,
   "id": "f89eb847-ac98-411f-86a6-2b5ea1475505",
   "metadata": {},
   "outputs": [],
   "source": [
    "# y = df_sample['cyberbullying_type']\n",
    "# X = df_sample['no_links_text']"
   ]
  },
  {
   "cell_type": "code",
   "execution_count": 19,
   "id": "89354060-7bd7-454d-bfdd-b122fef5b9cb",
   "metadata": {},
   "outputs": [
    {
     "data": {
      "text/plain": [
       "(4800,)"
      ]
     },
     "execution_count": 19,
     "metadata": {},
     "output_type": "execute_result"
    }
   ],
   "source": [
    "# X.shape"
   ]
  },
  {
   "cell_type": "code",
   "execution_count": 20,
   "id": "9abe51f8-77f9-4589-a4c5-0f6b596ddee7",
   "metadata": {},
   "outputs": [],
   "source": [
    "# X_train, X_test, y_train, y_test = train_test_split(X, y, random_state=42, stratify=y)"
   ]
  },
  {
   "cell_type": "markdown",
   "id": "0dad7e69-a98c-4c34-93b0-5133bc1c7f8c",
   "metadata": {},
   "source": [
    "### Train test split on full dataset"
   ]
  },
  {
   "cell_type": "code",
   "execution_count": 36,
   "id": "09e15130-df50-4289-aad5-316bdcb16725",
   "metadata": {},
   "outputs": [],
   "source": [
    "y = df['cyberbullying_type']\n",
    "X = df['no_links_text']"
   ]
  },
  {
   "cell_type": "code",
   "execution_count": 37,
   "id": "f1e30bd4-4fe5-48fe-9e19-a04a3b1f5c9e",
   "metadata": {},
   "outputs": [],
   "source": [
    "X_train, X_test, y_train, y_test = train_test_split(X, y, random_state=42, stratify=y)"
   ]
  },
  {
   "cell_type": "markdown",
   "id": "71849142-0e94-4bf5-9ba1-4f323be76fb8",
   "metadata": {},
   "source": [
    "### Count vectorizer"
   ]
  },
  {
   "cell_type": "code",
   "execution_count": 38,
   "id": "80b0f797-4db4-4226-8fba-c99f3406e7c1",
   "metadata": {},
   "outputs": [
    {
     "data": {
      "text/plain": [
       "(0.9198467947105035, 0.8200117420112388)"
      ]
     },
     "execution_count": 38,
     "metadata": {},
     "output_type": "execute_result"
    }
   ],
   "source": [
    "cv_log = Pipeline([\n",
    "    ('cv', CountVectorizer(stop_words = 'english', min_df=4)), \n",
    "    ('lr', LogisticRegression(multi_class='multinomial', solver='lbfgs', max_iter=200))\n",
    "]) \n",
    "\n",
    "cv_log.fit(X_train, y_train)\n",
    "cv_log.score(X_train, y_train), cv_log.score(X_test, y_test)"
   ]
  },
  {
   "cell_type": "code",
   "execution_count": 39,
   "id": "8b7fe9c8-05e2-46b4-a38e-4c0e99558106",
   "metadata": {},
   "outputs": [
    {
     "data": {
      "text/plain": [
       "(0.8220805725628337, 0.774721127233079)"
      ]
     },
     "execution_count": 39,
     "metadata": {},
     "output_type": "execute_result"
    }
   ],
   "source": [
    "cv_mnb = Pipeline([\n",
    "    ('cv', CountVectorizer(stop_words = 'english', min_df=4)), \n",
    "    ('mnb', MultinomialNB())\n",
    "]) \n",
    "\n",
    "cv_mnb.fit(X_train, y_train)\n",
    "cv_mnb.score(X_train, y_train), cv_mnb.score(X_test, y_test)"
   ]
  },
  {
   "cell_type": "markdown",
   "id": "033179b8-ae05-4bed-9c3a-78abfdb91d55",
   "metadata": {},
   "source": [
    "### TF-IDF "
   ]
  },
  {
   "cell_type": "code",
   "execution_count": 40,
   "id": "6f3a3210-388c-4d32-a0ae-fb2f36954c23",
   "metadata": {},
   "outputs": [
    {
     "data": {
      "text/plain": [
       "(0.8883111073834885, 0.8242891889625095)"
      ]
     },
     "execution_count": 40,
     "metadata": {},
     "output_type": "execute_result"
    }
   ],
   "source": [
    "tf_log = Pipeline([\n",
    "    ('tf', TfidfVectorizer(stop_words = 'english', min_df=4)), \n",
    "    ('lr', LogisticRegression(multi_class='multinomial', solver='lbfgs', max_iter=200))\n",
    "])\n",
    "\n",
    "tf_log.fit(X_train, y_train)\n",
    "tf_log.score(X_train, y_train), tf_log.score(X_test, y_test)"
   ]
  },
  {
   "cell_type": "code",
   "execution_count": 41,
   "id": "ff806542-18b0-4921-8fb5-52d890cc25e6",
   "metadata": {},
   "outputs": [
    {
     "data": {
      "text/plain": [
       "(0.8245408034890548, 0.7607145852553887)"
      ]
     },
     "execution_count": 41,
     "metadata": {},
     "output_type": "execute_result"
    }
   ],
   "source": [
    "tf_mnb = Pipeline([\n",
    "    ('tf', TfidfVectorizer(stop_words = 'english', min_df=3)), \n",
    "    ('mnb', MultinomialNB())\n",
    "])\n",
    "\n",
    "tf_mnb.fit(X_train, y_train)\n",
    "tf_mnb.score(X_train, y_train), tf_mnb.score(X_test, y_test)"
   ]
  },
  {
   "cell_type": "markdown",
   "id": "32c0aacf-5726-47f1-aebe-2d728e084c31",
   "metadata": {},
   "source": [
    "## Evaluate classifier models"
   ]
  },
  {
   "cell_type": "markdown",
   "id": "9f480109-681c-4ffc-a986-b1a89c28bcaf",
   "metadata": {},
   "source": [
    "Compare confusion matrices, accuracy scores"
   ]
  },
  {
   "cell_type": "code",
   "execution_count": 69,
   "id": "025c7ae7-aebe-4c82-a161-6951961168eb",
   "metadata": {},
   "outputs": [],
   "source": [
    "from sklearn.metrics import multilabel_confusion_matrix, ConfusionMatrixDisplay"
   ]
  },
  {
   "cell_type": "code",
   "execution_count": null,
   "id": "d8b558a6-722f-4275-879e-f2352f81e875",
   "metadata": {},
   "outputs": [],
   "source": [
    "multilabel_confusion_matrix()"
   ]
  },
  {
   "cell_type": "code",
   "execution_count": 77,
   "id": "c2bf4fae-78e2-409a-8b83-9bea8fd1c2db",
   "metadata": {},
   "outputs": [],
   "source": [
    "def matrix_report(pipeline_list, X_test, y_test):\n",
    "    \n",
    "    for model in pipeline_list:\n",
    "        preds = model.predict(X_test)\n",
    "        print(f'Accuracy = {round(accuracy_score(y_test, preds), 4)}')\n",
    "        fig, ax = plt.subplots(figsize=(5, 5))\n",
    "        plot_confusion_matrix(model, X_test, y_test, cmap='Blues', ax=ax, xticks_rotation=45, colorbar=False)\n",
    "        plt.title({model})\n",
    "        plt.show(); \n",
    "        print(classification_report(y_test, preds))\n",
    "        print()\n",
    "\n",
    "    return"
   ]
  },
  {
   "cell_type": "code",
   "execution_count": 80,
   "id": "e55f3ba3-73f9-4a0e-976f-e04cb43799cc",
   "metadata": {},
   "outputs": [
    {
     "name": "stdout",
     "output_type": "stream",
     "text": [
      "Accuracy = 0.82\n"
     ]
    },
    {
     "data": {
      "image/png": "[encoded data removed]",
      "text/plain": [
       "<Figure size 360x360 with 1 Axes>"
      ]
     },
     "metadata": {
      "needs_background": "light"
     },
     "output_type": "display_data"
    },
    {
     "name": "stdout",
     "output_type": "stream",
     "text": [
      "                     precision    recall  f1-score   support\n",
      "\n",
      "                age       0.98      0.98      0.98      1998\n",
      "          ethnicity       0.98      0.97      0.97      1990\n",
      "             gender       0.90      0.84      0.87      1993\n",
      "  not_cyberbullying       0.56      0.53      0.54      1986\n",
      "other_cyberbullying       0.56      0.66      0.61      1956\n",
      "           religion       0.97      0.94      0.96      2000\n",
      "\n",
      "           accuracy                           0.82     11923\n",
      "          macro avg       0.82      0.82      0.82     11923\n",
      "       weighted avg       0.83      0.82      0.82     11923\n",
      "\n",
      "\n",
      "Accuracy = 0.7747\n"
     ]
    },
    {
     "data": {
      "image/png": "[encoded data removed]",
      "text/plain": [
       "<Figure size 360x360 with 1 Axes>"
      ]
     },
     "metadata": {
      "needs_background": "light"
     },
     "output_type": "display_data"
    },
    {
     "name": "stdout",
     "output_type": "stream",
     "text": [
      "                     precision    recall  f1-score   support\n",
      "\n",
      "                age       0.81      0.98      0.89      1998\n",
      "          ethnicity       0.87      0.92      0.89      1990\n",
      "             gender       0.86      0.80      0.83      1993\n",
      "  not_cyberbullying       0.65      0.43      0.51      1986\n",
      "other_cyberbullying       0.59      0.55      0.57      1956\n",
      "           religion       0.80      0.96      0.88      2000\n",
      "\n",
      "           accuracy                           0.77     11923\n",
      "          macro avg       0.76      0.77      0.76     11923\n",
      "       weighted avg       0.76      0.77      0.76     11923\n",
      "\n",
      "\n",
      "Accuracy = 0.8243\n"
     ]
    },
    {
     "data": {
      "image/png": "[encoded data removed]",
      "text/plain": [
       "<Figure size 360x360 with 1 Axes>"
      ]
     },
     "metadata": {
      "needs_background": "light"
     },
     "output_type": "display_data"
    },
    {
     "name": "stdout",
     "output_type": "stream",
     "text": [
      "                     precision    recall  f1-score   support\n",
      "\n",
      "                age       0.96      0.97      0.96      1998\n",
      "          ethnicity       0.97      0.96      0.97      1990\n",
      "             gender       0.92      0.84      0.88      1993\n",
      "  not_cyberbullying       0.60      0.52      0.56      1986\n",
      "other_cyberbullying       0.57      0.70      0.63      1956\n",
      "           religion       0.96      0.94      0.95      2000\n",
      "\n",
      "           accuracy                           0.82     11923\n",
      "          macro avg       0.83      0.82      0.82     11923\n",
      "       weighted avg       0.83      0.82      0.83     11923\n",
      "\n",
      "\n",
      "Accuracy = 0.7607\n"
     ]
    },
    {
     "data": {
      "image/png": "[encoded data removed]",
      "text/plain": [
       "<Figure size 360x360 with 1 Axes>"
      ]
     },
     "metadata": {
      "needs_background": "light"
     },
     "output_type": "display_data"
    },
    {
     "name": "stdout",
     "output_type": "stream",
     "text": [
      "                     precision    recall  f1-score   support\n",
      "\n",
      "                age       0.77      0.98      0.86      1998\n",
      "          ethnicity       0.85      0.91      0.88      1990\n",
      "             gender       0.82      0.83      0.83      1993\n",
      "  not_cyberbullying       0.65      0.40      0.50      1986\n",
      "other_cyberbullying       0.60      0.48      0.53      1956\n",
      "           religion       0.78      0.96      0.86      2000\n",
      "\n",
      "           accuracy                           0.76     11923\n",
      "          macro avg       0.75      0.76      0.74     11923\n",
      "       weighted avg       0.75      0.76      0.74     11923\n",
      "\n",
      "\n"
     ]
    }
   ],
   "source": [
    "matrix_report([cv_log, cv_mnb, tf_log, tf_mnb], X_test, y_test)"
   ]
  },
  {
   "cell_type": "markdown",
   "id": "20cf4117-cd30-4e1b-9daf-1efaf098930e",
   "metadata": {},
   "source": [
    "### Summary of model performance"
   ]
  },
  {
   "cell_type": "code",
   "execution_count": 49,
   "id": "c81d0b34-4585-4acf-afbc-36884e5e6bcf",
   "metadata": {},
   "outputs": [],
   "source": [
    "# Code adapted from Tanya Shapiro's function get_metrics()\n",
    "\n",
    "def classifier_metrics(report_title, model): \n",
    "    '''\n",
    "    Input a model and calculate predictions with X_test.\n",
    "    Print a summary of classifier metrics from sklearn.metrics calculated with \n",
    "    y_test and preds\n",
    "    returns df that can be compiled into summary table\n",
    "    '''\n",
    "    preds = model.predict(X_test)\n",
    "    # log_loss_score = log_loss(y_test, preds) \n",
    "    # f1 = f1_score(y_test, preds)\n",
    "    train_accuracy = model.score(X_train, y_train)\n",
    "    test_accuracy = accuracy_score(y_test, preds)\n",
    "    # sensitivity = recall_score(y_test, preds)\n",
    "    # precision = precision_score(y_test, preds)\n",
    "    metrics = {\n",
    "        'model': report_title, \n",
    "        'train_accuracy': train_accuracy,\n",
    "        'test_accuracy': test_accuracy, \n",
    "        # 'f1_score': f1, \n",
    "        # 'log_loss': log_loss_score, \n",
    "        # 'sensitivity': sensitivity, \n",
    "        # 'precision': precision\n",
    "    }\n",
    "    df = pd.DataFrame(metrics.items()).T\n",
    "    df.columns = df.iloc[0]\n",
    "    df = df[1:]\n",
    "    return df\n",
    "      "
   ]
  },
  {
   "cell_type": "code",
   "execution_count": 139,
   "id": "4617ed28-8c05-4f0b-8121-1a641d9519df",
   "metadata": {},
   "outputs": [
    {
     "data": {
      "text/html": [
       "<div>\n",
       "<style scoped>\n",
       "    .dataframe tbody tr th:only-of-type {\n",
       "        vertical-align: middle;\n",
       "    }\n",
       "\n",
       "    .dataframe tbody tr th {\n",
       "        vertical-align: top;\n",
       "    }\n",
       "\n",
       "    .dataframe thead th {\n",
       "        text-align: right;\n",
       "    }\n",
       "</style>\n",
       "<table border=\"1\" class=\"dataframe\">\n",
       "  <thead>\n",
       "    <tr style=\"text-align: right;\">\n",
       "      <th></th>\n",
       "      <th>model</th>\n",
       "      <th>train_accuracy</th>\n",
       "      <th>test_accuracy</th>\n",
       "    </tr>\n",
       "  </thead>\n",
       "  <tbody>\n",
       "    <tr>\n",
       "      <th>1</th>\n",
       "      <td>TF-IDF + Multinomial Naive Bayes</td>\n",
       "      <td>0.824541</td>\n",
       "      <td>0.760715</td>\n",
       "    </tr>\n",
       "    <tr>\n",
       "      <th>1</th>\n",
       "      <td>CountVectorizer + Multinomial Naive Bayes</td>\n",
       "      <td>0.822081</td>\n",
       "      <td>0.774721</td>\n",
       "    </tr>\n",
       "    <tr>\n",
       "      <th>1</th>\n",
       "      <td>CountVectorizer + Multinomial Logistic Regression</td>\n",
       "      <td>0.919847</td>\n",
       "      <td>0.820012</td>\n",
       "    </tr>\n",
       "    <tr>\n",
       "      <th>1</th>\n",
       "      <td>TF-IDF + Multinomial Logistic Regression</td>\n",
       "      <td>0.888311</td>\n",
       "      <td>0.824289</td>\n",
       "    </tr>\n",
       "  </tbody>\n",
       "</table>\n",
       "</div>"
      ],
      "text/plain": [
       "0                                              model train_accuracy  \\\n",
       "1                   TF-IDF + Multinomial Naive Bayes       0.824541   \n",
       "1          CountVectorizer + Multinomial Naive Bayes       0.822081   \n",
       "1  CountVectorizer + Multinomial Logistic Regression       0.919847   \n",
       "1           TF-IDF + Multinomial Logistic Regression       0.888311   \n",
       "\n",
       "0 test_accuracy  \n",
       "1      0.760715  \n",
       "1      0.774721  \n",
       "1      0.820012  \n",
       "1      0.824289  "
      ]
     },
     "execution_count": 139,
     "metadata": {},
     "output_type": "execute_result"
    }
   ],
   "source": [
    "metrics1 = classifier_metrics('CountVectorizer + Multinomial Logistic Regression', cv_log)\n",
    "metrics2 = classifier_metrics('TF-IDF + Multinomial Logistic Regression', tf_log)\n",
    "metrics3 = classifier_metrics('CountVectorizer + Multinomial Naive Bayes', cv_mnb)\n",
    "metrics4 = classifier_metrics('TF-IDF + Multinomial Naive Bayes', tf_mnb)\n",
    "\n",
    "metrics = pd.concat([metrics1, metrics2, metrics3, metrics4]).sort_values('test_accuracy')\n",
    "metrics "
   ]
  },
  {
   "cell_type": "code",
   "execution_count": 157,
   "id": "abc06c6b-21f0-423b-aafb-4fa290bd2f35",
   "metadata": {},
   "outputs": [],
   "source": [
    "# Code from Pedro M Duarte https://stackoverflow.com/questions/3899980/how-to-change-the-font-size-on-a-matplotlib-plot \n",
    "\n",
    "SMALL_SIZE = 14\n",
    "MEDIUM_SIZE = 16\n",
    "BIGGER_SIZE = 18\n",
    "\n",
    "plt.rc('font', size=SMALL_SIZE)          # controls default text sizes\n",
    "plt.rc('axes', titlesize=BIGGER_SIZE)     # fontsize of the TITLE \n",
    "plt.rc('axes', labelsize=MEDIUM_SIZE)    # fontsize of the x and y labels\n",
    "plt.rc('xtick', labelsize=SMALL_SIZE)    # fontsize of the tick labels\n",
    "plt.rc('ytick', labelsize=SMALL_SIZE)    # fontsize of the tick labels\n",
    "plt.rc('legend', fontsize=SMALL_SIZE)    # legend fontsize\n",
    "# plt.rc('figure', titlesize=BIGGER_SIZE)  # fontsize of the figure title\n"
   ]
  },
  {
   "cell_type": "code",
   "execution_count": 220,
   "id": "1212c1a1-c357-402e-aac3-93607d2c439c",
   "metadata": {},
   "outputs": [
    {
     "data": {
      "image/png": "[encoded data removed]",
      "text/plain": [
       "<Figure size 864x288 with 1 Axes>"
      ]
     },
     "metadata": {
      "needs_background": "light"
     },
     "output_type": "display_data"
    }
   ],
   "source": [
    "plt.figure(figsize=(12, 4))\n",
    "plt.xlim(.5, 1)\n",
    "plt.barh(metrics['model'], metrics['train_accuracy'], label='Train', color='#434343ff')\n",
    "plt.barh(metrics['model'], metrics['test_accuracy'], label='Test', color='#00b0f0ff')\n",
    "plt.xlabel('Test accuracy')\n",
    "plt.title('Accuracy scores for text vectorizers and models')\n",
    "plt.legend()\n",
    "plt.savefig('../plots/accuracy_scores.png');"
   ]
  },
  {
   "cell_type": "markdown",
   "id": "54b9d878-e5e2-4f89-bb26-d6861785a38b",
   "metadata": {},
   "source": [
    "- Count vectorizer + multinomial naive bayes was the least overfit and Count vectorizer + multinomial logistic regression was the most overfit\n",
    "- TF-IDF + multinomial logistic regression had the highest test accuracy score\n",
    "- Count vectorizer + multinomial logistic regression was a close second for test highest accuracy"
   ]
  },
  {
   "cell_type": "markdown",
   "id": "f7281f19-4bea-4870-bd38-4d64cb946937",
   "metadata": {},
   "source": [
    "### Optimizing the best model "
   ]
  },
  {
   "cell_type": "markdown",
   "id": "886fab32-47fa-462b-95eb-e28960ff66ca",
   "metadata": {},
   "source": [
    "- stopwords None vs 'english' and using stopwords improved all 4 model train/test scores \n",
    "- min_df = 3 vs 4 and all model train/test score spread, except TF-IDF + MultinomialNB, were improved with min_df = 4"
   ]
  },
  {
   "cell_type": "markdown",
   "id": "118b66d6-01a8-44c0-a6f2-73ca63d85978",
   "metadata": {},
   "source": [
    "### Export as pickle"
   ]
  },
  {
   "cell_type": "code",
   "execution_count": 159,
   "id": "cf516701-b3ac-49f9-836e-1a9874696929",
   "metadata": {},
   "outputs": [
    {
     "data": {
      "text/plain": [
       "(0.8883111073834885, 0.8242891889625095)"
      ]
     },
     "execution_count": 159,
     "metadata": {},
     "output_type": "execute_result"
    }
   ],
   "source": [
    "tf_log = Pipeline([\n",
    "    ('tf', TfidfVectorizer(stop_words = 'english', min_df=4)), \n",
    "    ('lr', LogisticRegression(multi_class='multinomial', solver='lbfgs', max_iter=200))\n",
    "])\n",
    "\n",
    "tf_log.fit(X_train, y_train)\n",
    "tf_log.score(X_train, y_train), tf_log.score(X_test, y_test)"
   ]
  },
  {
   "cell_type": "code",
   "execution_count": 35,
   "id": "4d4e839f-7769-475f-bf7e-413b70d7a280",
   "metadata": {},
   "outputs": [],
   "source": [
    "# with open('../models/pickle_tf_log.pkl', 'wb') as pickle_out:\n",
    "#     pickle_out = pickle.dump(cv_log, pickle_out)\n",
    "    "
   ]
  },
  {
   "cell_type": "markdown",
   "id": "5cf9e2b2-8f22-4ad6-8526-a5f2741f801e",
   "metadata": {},
   "source": [
    "### Export confusion matrix figure"
   ]
  },
  {
   "cell_type": "code",
   "execution_count": 191,
   "id": "529ab632-b05a-4890-bac9-1628f20c159f",
   "metadata": {},
   "outputs": [
    {
     "data": {
      "image/png": "[encoded data removed]",
      "text/plain": [
       "<Figure size 576x576 with 1 Axes>"
      ]
     },
     "metadata": {
      "needs_background": "light"
     },
     "output_type": "display_data"
    }
   ],
   "source": [
    "# citation for svg file https://stackoverflow.com/questions/16183462/saving-images-in-python-at-a-very-high-quality \n",
    "\n",
    "fig, ax = plt.subplots(figsize=(8, 8))\n",
    "plt.title('Confusion Matrix')\n",
    "plot_confusion_matrix(tf_log, X_test, y_test, cmap='Blues', xticks_rotation=45, colorbar=False, ax=ax) \n",
    "plt.savefig('../plots/tf_log_confusion_matrix.eps', format='eps', dpi=1200, bbox_inches='tight'); "
   ]
  },
  {
   "cell_type": "markdown",
   "id": "04864bdc-0e4d-466c-a193-7b641adaa7e2",
   "metadata": {},
   "source": [
    "## Analyze misclassified tweets for the best model "
   ]
  },
  {
   "cell_type": "code",
   "execution_count": 478,
   "id": "dca4512a-98e2-4f43-a515-42dd2baf7766",
   "metadata": {},
   "outputs": [],
   "source": [
    "pred_proba = tf_log.predict_proba(X_test)"
   ]
  },
  {
   "cell_type": "code",
   "execution_count": 479,
   "id": "40ac7e31-bf47-4ba5-99a2-41d53619910a",
   "metadata": {},
   "outputs": [],
   "source": [
    "pred_proba_df = pd.DataFrame(pred_proba)"
   ]
  },
  {
   "cell_type": "code",
   "execution_count": 480,
   "id": "bfe8bfce-a8f8-4bb9-a411-e69a670ded4c",
   "metadata": {},
   "outputs": [],
   "source": [
    "preds = tf_log.predict(X_test)\n",
    "pred_df = pd.DataFrame(preds)"
   ]
  },
  {
   "cell_type": "code",
   "execution_count": 350,
   "id": "5cf81874-99c0-43b9-accb-2af10bc399cd",
   "metadata": {},
   "outputs": [
    {
     "data": {
      "text/html": [
       "<div>\n",
       "<style scoped>\n",
       "    .dataframe tbody tr th:only-of-type {\n",
       "        vertical-align: middle;\n",
       "    }\n",
       "\n",
       "    .dataframe tbody tr th {\n",
       "        vertical-align: top;\n",
       "    }\n",
       "\n",
       "    .dataframe thead th {\n",
       "        text-align: right;\n",
       "    }\n",
       "</style>\n",
       "<table border=\"1\" class=\"dataframe\">\n",
       "  <thead>\n",
       "    <tr style=\"text-align: right;\">\n",
       "      <th></th>\n",
       "      <th>cyberbullying_type</th>\n",
       "    </tr>\n",
       "  </thead>\n",
       "  <tbody>\n",
       "    <tr>\n",
       "      <th>803</th>\n",
       "      <td>not_cyberbullying</td>\n",
       "    </tr>\n",
       "  </tbody>\n",
       "</table>\n",
       "</div>"
      ],
      "text/plain": [
       "    cyberbullying_type\n",
       "803  not_cyberbullying"
      ]
     },
     "execution_count": 350,
     "metadata": {},
     "output_type": "execute_result"
    }
   ],
   "source": [
    "y_test_df = pd.DataFrame(y_test)\n",
    "y_test_df.head(1)"
   ]
  },
  {
   "cell_type": "code",
   "execution_count": 351,
   "id": "c85b2b16-7338-45d6-a621-908334cb8795",
   "metadata": {},
   "outputs": [
    {
     "data": {
      "text/html": [
       "<div>\n",
       "<style scoped>\n",
       "    .dataframe tbody tr th:only-of-type {\n",
       "        vertical-align: middle;\n",
       "    }\n",
       "\n",
       "    .dataframe tbody tr th {\n",
       "        vertical-align: top;\n",
       "    }\n",
       "\n",
       "    .dataframe thead th {\n",
       "        text-align: right;\n",
       "    }\n",
       "</style>\n",
       "<table border=\"1\" class=\"dataframe\">\n",
       "  <thead>\n",
       "    <tr style=\"text-align: right;\">\n",
       "      <th></th>\n",
       "      <th>no_links_text</th>\n",
       "    </tr>\n",
       "  </thead>\n",
       "  <tbody>\n",
       "    <tr>\n",
       "      <th>803</th>\n",
       "      <td>You only give half a fuck about sweatshop labor when it's a derail. Bye!</td>\n",
       "    </tr>\n",
       "  </tbody>\n",
       "</table>\n",
       "</div>"
      ],
      "text/plain": [
       "                                                                  no_links_text\n",
       "803    You only give half a fuck about sweatshop labor when it's a derail. Bye!"
      ]
     },
     "execution_count": 351,
     "metadata": {},
     "output_type": "execute_result"
    }
   ],
   "source": [
    "X_test_df = pd.DataFrame(X_test)\n",
    "X_test_df.head(1)"
   ]
  },
  {
   "cell_type": "code",
   "execution_count": 352,
   "id": "2c3a2755-2740-417f-a20b-f24cd6abddbe",
   "metadata": {},
   "outputs": [],
   "source": [
    "test_df = pd.concat([X_test_df, y_test_df], axis=1)\n",
    "test_df.reset_index(inplace=True, drop=True)"
   ]
  },
  {
   "cell_type": "code",
   "execution_count": 477,
   "id": "b251c3fc-e15d-490c-b932-728b71657e36",
   "metadata": {},
   "outputs": [
    {
     "data": {
      "text/html": [
       "<div>\n",
       "<style scoped>\n",
       "    .dataframe tbody tr th:only-of-type {\n",
       "        vertical-align: middle;\n",
       "    }\n",
       "\n",
       "    .dataframe tbody tr th {\n",
       "        vertical-align: top;\n",
       "    }\n",
       "\n",
       "    .dataframe thead th {\n",
       "        text-align: right;\n",
       "    }\n",
       "</style>\n",
       "<table border=\"1\" class=\"dataframe\">\n",
       "  <thead>\n",
       "    <tr style=\"text-align: right;\">\n",
       "      <th></th>\n",
       "      <th>0</th>\n",
       "      <th>1</th>\n",
       "      <th>2</th>\n",
       "      <th>3</th>\n",
       "      <th>4</th>\n",
       "      <th>5</th>\n",
       "      <th>6</th>\n",
       "      <th>7</th>\n",
       "      <th>8</th>\n",
       "    </tr>\n",
       "  </thead>\n",
       "  <tbody>\n",
       "    <tr>\n",
       "      <th>0</th>\n",
       "      <td>0.022609</td>\n",
       "      <td>0.128432</td>\n",
       "      <td>0.08508</td>\n",
       "      <td>0.368403</td>\n",
       "      <td>0.330008</td>\n",
       "      <td>0.06547</td>\n",
       "      <td>not_cyberbullying</td>\n",
       "      <td>You only give half a fuck about sweatshop labor when it's a derail. Bye!</td>\n",
       "      <td>not_cyberbullying</td>\n",
       "    </tr>\n",
       "  </tbody>\n",
       "</table>\n",
       "</div>"
      ],
      "text/plain": [
       "          0         1        2         3         4        5  \\\n",
       "0  0.022609  0.128432  0.08508  0.368403  0.330008  0.06547   \n",
       "\n",
       "                   6  \\\n",
       "0  not_cyberbullying   \n",
       "\n",
       "                                                                            7  \\\n",
       "0    You only give half a fuck about sweatshop labor when it's a derail. Bye!   \n",
       "\n",
       "                   8  \n",
       "0  not_cyberbullying  "
      ]
     },
     "execution_count": 477,
     "metadata": {},
     "output_type": "execute_result"
    }
   ],
   "source": [
    "df_probs = pd.concat([pred_proba_df, pred_df, test_df], axis=1, ignore_index=True)\n",
    "df_probs.head(1)"
   ]
  },
  {
   "cell_type": "code",
   "execution_count": 355,
   "id": "86f09648-b908-4533-9727-20b04a712702",
   "metadata": {},
   "outputs": [
    {
     "data": {
      "text/plain": [
       "(11923,)"
      ]
     },
     "execution_count": 355,
     "metadata": {},
     "output_type": "execute_result"
    }
   ],
   "source": [
    "X_test.shape"
   ]
  },
  {
   "cell_type": "code",
   "execution_count": 363,
   "id": "a20855f5-dbd9-4fc7-8d1a-e4f6dc439c75",
   "metadata": {},
   "outputs": [],
   "source": [
    "df_probs.columns = ['age', 'ethnicity', 'gender', 'not_cyberbullying', 'other_cyberbullying', 'religion', 'model_prediction', 'tweet', 'true_class']"
   ]
  },
  {
   "cell_type": "code",
   "execution_count": 476,
   "id": "497a24e7-7575-48c2-a862-da33688788e2",
   "metadata": {},
   "outputs": [
    {
     "data": {
      "text/html": [
       "<div>\n",
       "<style scoped>\n",
       "    .dataframe tbody tr th:only-of-type {\n",
       "        vertical-align: middle;\n",
       "    }\n",
       "\n",
       "    .dataframe tbody tr th {\n",
       "        vertical-align: top;\n",
       "    }\n",
       "\n",
       "    .dataframe thead th {\n",
       "        text-align: right;\n",
       "    }\n",
       "</style>\n",
       "<table border=\"1\" class=\"dataframe\">\n",
       "  <thead>\n",
       "    <tr style=\"text-align: right;\">\n",
       "      <th></th>\n",
       "      <th>age</th>\n",
       "      <th>ethnicity</th>\n",
       "      <th>gender</th>\n",
       "      <th>not_cyberbullying</th>\n",
       "      <th>other_cyberbullying</th>\n",
       "      <th>religion</th>\n",
       "      <th>model_prediction</th>\n",
       "      <th>tweet</th>\n",
       "      <th>true_class</th>\n",
       "    </tr>\n",
       "  </thead>\n",
       "  <tbody>\n",
       "    <tr>\n",
       "      <th>0</th>\n",
       "      <td>0.022609</td>\n",
       "      <td>0.128432</td>\n",
       "      <td>0.08508</td>\n",
       "      <td>0.368403</td>\n",
       "      <td>0.330008</td>\n",
       "      <td>0.06547</td>\n",
       "      <td>not_cyberbullying</td>\n",
       "      <td>You only give half a fuck about sweatshop labor when it's a derail. Bye!</td>\n",
       "      <td>not_cyberbullying</td>\n",
       "    </tr>\n",
       "  </tbody>\n",
       "</table>\n",
       "</div>"
      ],
      "text/plain": [
       "        age  ethnicity   gender  not_cyberbullying  other_cyberbullying  \\\n",
       "0  0.022609   0.128432  0.08508           0.368403             0.330008   \n",
       "\n",
       "   religion   model_prediction  \\\n",
       "0   0.06547  not_cyberbullying   \n",
       "\n",
       "                                                                        tweet  \\\n",
       "0    You only give half a fuck about sweatshop labor when it's a derail. Bye!   \n",
       "\n",
       "          true_class  \n",
       "0  not_cyberbullying  "
      ]
     },
     "execution_count": 476,
     "metadata": {},
     "output_type": "execute_result"
    }
   ],
   "source": [
    "df_probs.head(1)"
   ]
  },
  {
   "cell_type": "code",
   "execution_count": 365,
   "id": "f0cad0d7-7924-41ee-adec-4d8237bfd8fc",
   "metadata": {},
   "outputs": [],
   "source": [
    "misclassified_df = df_probs.loc[df_probs['model_prediction'] != df_probs['true_class']]"
   ]
  },
  {
   "cell_type": "code",
   "execution_count": 367,
   "id": "6afb3f59-f953-4478-8395-97d4ab19b6ca",
   "metadata": {},
   "outputs": [
    {
     "data": {
      "text/html": [
       "<div>\n",
       "<style scoped>\n",
       "    .dataframe tbody tr th:only-of-type {\n",
       "        vertical-align: middle;\n",
       "    }\n",
       "\n",
       "    .dataframe tbody tr th {\n",
       "        vertical-align: top;\n",
       "    }\n",
       "\n",
       "    .dataframe thead th {\n",
       "        text-align: right;\n",
       "    }\n",
       "</style>\n",
       "<table border=\"1\" class=\"dataframe\">\n",
       "  <thead>\n",
       "    <tr style=\"text-align: right;\">\n",
       "      <th></th>\n",
       "      <th>age</th>\n",
       "      <th>ethnicity</th>\n",
       "      <th>gender</th>\n",
       "      <th>not_cyberbullying</th>\n",
       "      <th>other_cyberbullying</th>\n",
       "      <th>religion</th>\n",
       "    </tr>\n",
       "  </thead>\n",
       "  <tbody>\n",
       "    <tr>\n",
       "      <th>count</th>\n",
       "      <td>2095.000000</td>\n",
       "      <td>2095.000000</td>\n",
       "      <td>2095.000000</td>\n",
       "      <td>2095.000000</td>\n",
       "      <td>2095.000000</td>\n",
       "      <td>2095.000000</td>\n",
       "    </tr>\n",
       "    <tr>\n",
       "      <th>mean</th>\n",
       "      <td>0.058335</td>\n",
       "      <td>0.049798</td>\n",
       "      <td>0.127441</td>\n",
       "      <td>0.324912</td>\n",
       "      <td>0.366593</td>\n",
       "      <td>0.072922</td>\n",
       "    </tr>\n",
       "    <tr>\n",
       "      <th>std</th>\n",
       "      <td>0.131153</td>\n",
       "      <td>0.113836</td>\n",
       "      <td>0.155462</td>\n",
       "      <td>0.179966</td>\n",
       "      <td>0.195142</td>\n",
       "      <td>0.129996</td>\n",
       "    </tr>\n",
       "    <tr>\n",
       "      <th>min</th>\n",
       "      <td>0.000011</td>\n",
       "      <td>0.000010</td>\n",
       "      <td>0.000015</td>\n",
       "      <td>0.000117</td>\n",
       "      <td>0.000004</td>\n",
       "      <td>0.000018</td>\n",
       "    </tr>\n",
       "    <tr>\n",
       "      <th>25%</th>\n",
       "      <td>0.013175</td>\n",
       "      <td>0.013240</td>\n",
       "      <td>0.043179</td>\n",
       "      <td>0.198581</td>\n",
       "      <td>0.229755</td>\n",
       "      <td>0.019165</td>\n",
       "    </tr>\n",
       "    <tr>\n",
       "      <th>50%</th>\n",
       "      <td>0.021095</td>\n",
       "      <td>0.023222</td>\n",
       "      <td>0.073165</td>\n",
       "      <td>0.318086</td>\n",
       "      <td>0.384358</td>\n",
       "      <td>0.038963</td>\n",
       "    </tr>\n",
       "    <tr>\n",
       "      <th>75%</th>\n",
       "      <td>0.036125</td>\n",
       "      <td>0.037447</td>\n",
       "      <td>0.140624</td>\n",
       "      <td>0.431770</td>\n",
       "      <td>0.490947</td>\n",
       "      <td>0.063237</td>\n",
       "    </tr>\n",
       "    <tr>\n",
       "      <th>max</th>\n",
       "      <td>0.998099</td>\n",
       "      <td>0.998476</td>\n",
       "      <td>0.996858</td>\n",
       "      <td>0.932448</td>\n",
       "      <td>0.991756</td>\n",
       "      <td>0.999069</td>\n",
       "    </tr>\n",
       "  </tbody>\n",
       "</table>\n",
       "</div>"
      ],
      "text/plain": [
       "               age    ethnicity       gender  not_cyberbullying  \\\n",
       "count  2095.000000  2095.000000  2095.000000        2095.000000   \n",
       "mean      0.058335     0.049798     0.127441           0.324912   \n",
       "std       0.131153     0.113836     0.155462           0.179966   \n",
       "min       0.000011     0.000010     0.000015           0.000117   \n",
       "25%       0.013175     0.013240     0.043179           0.198581   \n",
       "50%       0.021095     0.023222     0.073165           0.318086   \n",
       "75%       0.036125     0.037447     0.140624           0.431770   \n",
       "max       0.998099     0.998476     0.996858           0.932448   \n",
       "\n",
       "       other_cyberbullying     religion  \n",
       "count          2095.000000  2095.000000  \n",
       "mean              0.366593     0.072922  \n",
       "std               0.195142     0.129996  \n",
       "min               0.000004     0.000018  \n",
       "25%               0.229755     0.019165  \n",
       "50%               0.384358     0.038963  \n",
       "75%               0.490947     0.063237  \n",
       "max               0.991756     0.999069  "
      ]
     },
     "execution_count": 367,
     "metadata": {},
     "output_type": "execute_result"
    }
   ],
   "source": [
    "misclassified_df.describe()"
   ]
  },
  {
   "cell_type": "code",
   "execution_count": 408,
   "id": "c6aa91de-8756-4ce5-bbf9-8d21efc7d9b6",
   "metadata": {},
   "outputs": [
    {
     "data": {
      "text/html": [
       "<div>\n",
       "<style scoped>\n",
       "    .dataframe tbody tr th:only-of-type {\n",
       "        vertical-align: middle;\n",
       "    }\n",
       "\n",
       "    .dataframe tbody tr th {\n",
       "        vertical-align: top;\n",
       "    }\n",
       "\n",
       "    .dataframe thead th {\n",
       "        text-align: right;\n",
       "    }\n",
       "</style>\n",
       "<table border=\"1\" class=\"dataframe\">\n",
       "  <thead>\n",
       "    <tr style=\"text-align: right;\">\n",
       "      <th></th>\n",
       "      <th>age</th>\n",
       "      <th>true_class</th>\n",
       "      <th>model_prediction</th>\n",
       "      <th>tweet</th>\n",
       "    </tr>\n",
       "  </thead>\n",
       "  <tbody>\n",
       "    <tr>\n",
       "      <th>8184</th>\n",
       "      <td>0.010948</td>\n",
       "      <td>age</td>\n",
       "      <td>not_cyberbullying</td>\n",
       "      <td>STOP BULLYING YOUR MUM ABOUT HER GUMS</td>\n",
       "    </tr>\n",
       "    <tr>\n",
       "      <th>8598</th>\n",
       "      <td>0.020414</td>\n",
       "      <td>age</td>\n",
       "      <td>other_cyberbullying</td>\n",
       "      <td>You're a bit of a dork, aren't you?</td>\n",
       "    </tr>\n",
       "    <tr>\n",
       "      <th>6439</th>\n",
       "      <td>0.030059</td>\n",
       "      <td>age</td>\n",
       "      <td>other_cyberbullying</td>\n",
       "      <td>Getting a strong Skynyrd vibe here</td>\n",
       "    </tr>\n",
       "    <tr>\n",
       "      <th>555</th>\n",
       "      <td>0.043967</td>\n",
       "      <td>age</td>\n",
       "      <td>not_cyberbullying</td>\n",
       "      <td>//Still can't rp at the moment. At work.</td>\n",
       "    </tr>\n",
       "    <tr>\n",
       "      <th>8075</th>\n",
       "      <td>0.045776</td>\n",
       "      <td>age</td>\n",
       "      <td>other_cyberbullying</td>\n",
       "      <td>//Going to do a quick nap. I really need it after that long and tiring day. Don't worry, i will reply a bit before falling asleep and i will reply to everything after that nap.</td>\n",
       "    </tr>\n",
       "  </tbody>\n",
       "</table>\n",
       "</div>"
      ],
      "text/plain": [
       "           age true_class     model_prediction  \\\n",
       "8184  0.010948        age    not_cyberbullying   \n",
       "8598  0.020414        age  other_cyberbullying   \n",
       "6439  0.030059        age  other_cyberbullying   \n",
       "555   0.043967        age    not_cyberbullying   \n",
       "8075  0.045776        age  other_cyberbullying   \n",
       "\n",
       "                                                                                                                                                                                 tweet  \n",
       "8184                                                                                                                                             STOP BULLYING YOUR MUM ABOUT HER GUMS  \n",
       "8598                                                                                                                                               You're a bit of a dork, aren't you?  \n",
       "6439                                                                                                                                                Getting a strong Skynyrd vibe here  \n",
       "555                                                                                                                                           //Still can't rp at the moment. At work.  \n",
       "8075  //Going to do a quick nap. I really need it after that long and tiring day. Don't worry, i will reply a bit before falling asleep and i will reply to everything after that nap.  "
      ]
     },
     "execution_count": 408,
     "metadata": {},
     "output_type": "execute_result"
    }
   ],
   "source": [
    "age_preds = misclassified_df.loc[misclassified_df['true_class'] == 'age'].sort_values('age')\n",
    "age_preds[['age', 'true_class', 'model_prediction', 'tweet']].head()"
   ]
  },
  {
   "cell_type": "code",
   "execution_count": 481,
   "id": "4064408c-37fd-4068-b553-71e5e29bfbee",
   "metadata": {},
   "outputs": [
    {
     "data": {
      "text/html": [
       "<div>\n",
       "<style scoped>\n",
       "    .dataframe tbody tr th:only-of-type {\n",
       "        vertical-align: middle;\n",
       "    }\n",
       "\n",
       "    .dataframe tbody tr th {\n",
       "        vertical-align: top;\n",
       "    }\n",
       "\n",
       "    .dataframe thead th {\n",
       "        text-align: right;\n",
       "    }\n",
       "</style>\n",
       "<table border=\"1\" class=\"dataframe\">\n",
       "  <thead>\n",
       "    <tr style=\"text-align: right;\">\n",
       "      <th></th>\n",
       "      <th>gender</th>\n",
       "      <th>true_class</th>\n",
       "      <th>model_prediction</th>\n",
       "      <th>tweet</th>\n",
       "    </tr>\n",
       "  </thead>\n",
       "  <tbody>\n",
       "    <tr>\n",
       "      <th>10210</th>\n",
       "      <td>0.006950</td>\n",
       "      <td>gender</td>\n",
       "      <td>not_cyberbullying</td>\n",
       "      <td>The college tribunals only apply if BOTH attend that school.</td>\n",
       "    </tr>\n",
       "    <tr>\n",
       "      <th>9379</th>\n",
       "      <td>0.034986</td>\n",
       "      <td>gender</td>\n",
       "      <td>not_cyberbullying</td>\n",
       "      <td>The \"after all\" denotes sarcasm that you take out of context, Goebbels.</td>\n",
       "    </tr>\n",
       "    <tr>\n",
       "      <th>210</th>\n",
       "      <td>0.035961</td>\n",
       "      <td>gender</td>\n",
       "      <td>not_cyberbullying</td>\n",
       "      <td>lmao..dats how my lil hoe is ...she terrible doe..n she a bully lol</td>\n",
       "    </tr>\n",
       "    <tr>\n",
       "      <th>11768</th>\n",
       "      <td>0.042205</td>\n",
       "      <td>gender</td>\n",
       "      <td>not_cyberbullying</td>\n",
       "      <td>Met the funniest girl ever tonight. To laugh at. Is that bullying? Idk but she was funny</td>\n",
       "    </tr>\n",
       "    <tr>\n",
       "      <th>633</th>\n",
       "      <td>0.048557</td>\n",
       "      <td>gender</td>\n",
       "      <td>not_cyberbullying</td>\n",
       "      <td>There is literally photo evidence above...?</td>\n",
       "    </tr>\n",
       "  </tbody>\n",
       "</table>\n",
       "</div>"
      ],
      "text/plain": [
       "         gender true_class   model_prediction  \\\n",
       "10210  0.006950     gender  not_cyberbullying   \n",
       "9379   0.034986     gender  not_cyberbullying   \n",
       "210    0.035961     gender  not_cyberbullying   \n",
       "11768  0.042205     gender  not_cyberbullying   \n",
       "633    0.048557     gender  not_cyberbullying   \n",
       "\n",
       "                                                                                          tweet  \n",
       "10210                              The college tribunals only apply if BOTH attend that school.  \n",
       "9379                    The \"after all\" denotes sarcasm that you take out of context, Goebbels.  \n",
       "210                         lmao..dats how my lil hoe is ...she terrible doe..n she a bully lol  \n",
       "11768  Met the funniest girl ever tonight. To laugh at. Is that bullying? Idk but she was funny  \n",
       "633                                                 There is literally photo evidence above...?  "
      ]
     },
     "execution_count": 481,
     "metadata": {},
     "output_type": "execute_result"
    }
   ],
   "source": [
    "gender_preds = misclassified_df.loc[(misclassified_df['true_class'] == 'gender') & (misclassified_df['model_prediction'] == 'not_cyberbullying')].sort_values('gender')\n",
    "gender_preds[['gender', 'true_class', 'model_prediction', 'tweet']].head()"
   ]
  },
  {
   "cell_type": "code",
   "execution_count": 464,
   "id": "f1cfa177-e1fd-4939-bcf6-52cf998cbcde",
   "metadata": {},
   "outputs": [],
   "source": [
    "# code adapted from Notebook 1 from Tanya Shapiro\n",
    "\n",
    "cv = CountVectorizer(stop_words='english', ngram_range=(1, 1))\n",
    "cv_text = cv.fit_transform(gender_preds['tweet'])\n",
    "cv_df = pd.DataFrame(cv_text.todense(), columns=cv.get_feature_names())\n",
    "cv_top = pd.DataFrame(cv_df.sum().T).sort_values(by=0, ascending=False) \n",
    "top_25_gender_notcyberbullying = cv_top.sort_values(by=0).tail(25)\n",
    "top_25_gender_notcyberbullying = top_25_gender_notcyberbullying.reset_index().rename(columns={'index':'word'})"
   ]
  },
  {
   "cell_type": "code",
   "execution_count": 470,
   "id": "e95d02ff-452d-4a8a-ab64-527890a331ad",
   "metadata": {},
   "outputs": [
    {
     "data": {
      "image/png": "[encoded data removed]",
      "text/plain": [
       "<Figure size 504x432 with 1 Axes>"
      ]
     },
     "metadata": {
      "needs_background": "light"
     },
     "output_type": "display_data"
    }
   ],
   "source": [
    "plt.figure(figsize=(7, 6))\n",
    "plt.title(\"Top words in 141 tweets predicted 'gender', actually 'not cyberbullying'\")\n",
    "plt.barh(top_25_gender_notcyberbullying['word'],top_25_gender_notcyberbullying[0]);"
   ]
  }
 ],
 "metadata": {
  "kernelspec": {
   "display_name": "Python 3 (ipykernel)",
   "language": "python",
   "name": "python3"
  },
  "language_info": {
   "codemirror_mode": {
    "name": "ipython",
    "version": 3
   },
   "file_extension": ".py",
   "mimetype": "text/x-python",
   "name": "python",
   "nbconvert_exporter": "python",
   "pygments_lexer": "ipython3",
   "version": "3.9.7"
  }
 },
 "nbformat": 4,
 "nbformat_minor": 5
}
